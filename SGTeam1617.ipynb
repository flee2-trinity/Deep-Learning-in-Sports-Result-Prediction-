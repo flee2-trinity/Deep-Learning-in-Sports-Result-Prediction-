{
  "nbformat": 4,
  "nbformat_minor": 0,
  "metadata": {
    "accelerator": "TPU",
    "colab": {
      "name": "12_13AllTeamsS17.ipynb",
      "provenance": [],
      "collapsed_sections": [],
      "authorship_tag": "ABX9TyMK6IKCKEBF9aqVYmH/70/s",
      "include_colab_link": true
    },
    "kernelspec": {
      "display_name": "Python 3",
      "name": "python3"
    },
    "language_info": {
      "name": "python"
    }
  },
  "cells": [
    {
      "cell_type": "markdown",
      "metadata": {
        "id": "view-in-github",
        "colab_type": "text"
      },
      "source": [
        "<a href=\"https://colab.research.google.com/github/flee2-trinity/Deep-Learning-in-Sports-Result-Prediction-/blob/main/SingleTeam1617.ipynb\" target=\"_parent\"><img src=\"https://colab.research.google.com/assets/colab-badge.svg\" alt=\"Open In Colab\"/></a>"
      ]
    },
    {
      "cell_type": "code",
      "metadata": {
        "colab": {
          "base_uri": "https://localhost:8080/"
        },
        "id": "9P_LCx-bGAqE",
        "outputId": "86177983-829f-4c1c-88bc-742436a5da34"
      },
      "source": [
        "import torch\n",
        "import torch.nn as nn\n",
        "import torch.nn.functional as F\n",
        "import torchvision\n",
        "import torchvision.transforms as transforms\n",
        "\n",
        "from google.colab import drive\n",
        "\n",
        "drive.mount('/content/gdrive')\n",
        "DATA_PATH = '/content/gdrive/My Drive/2021 Fall/Thesis I'"
      ],
      "execution_count": null,
      "outputs": [
        {
          "output_type": "stream",
          "name": "stdout",
          "text": [
            "Drive already mounted at /content/gdrive; to attempt to forcibly remount, call drive.mount(\"/content/gdrive\", force_remount=True).\n"
          ]
        }
      ]
    },
    {
      "cell_type": "code",
      "metadata": {
        "id": "UojsY1XfGNAO"
      },
      "source": [
        "from __future__ import unicode_literals, print_function, division\n",
        "from io import open\n",
        "import glob\n",
        "import os\n",
        "import datetime\n",
        "\n",
        "def findFiles(path): \n",
        "  return glob.glob(path)"
      ],
      "execution_count": null,
      "outputs": []
    },
    {
      "cell_type": "code",
      "metadata": {
        "colab": {
          "base_uri": "https://localhost:8080/"
        },
        "id": "BEqLzZ0dGPEl",
        "outputId": "36fd72f2-0cd0-4072-8e61-c8b8156238d0"
      },
      "source": [
        "import csv\n",
        "\n",
        "filename = '/content/gdrive/My Drive/2021 Fall/Thesis I/NBA Data/nba 16-17/NatStat-NBA2017-Team_Statlines.csv'\n",
        "with open(filename, newline='') as f:\n",
        "      reader = csv.reader(f)\n",
        "      \"\"\"\n",
        "      print(list(reader))\n",
        "      ['GameDay', 'GameID', 'TeamID', 'Team', 'OpponentID', 'Opponent', 'Location',\n",
        "       'Division', 'Conference', 'Playoffs', 'WinOrLoss', 'PlayerType', 'MIN', 'PTS', \n",
        "       'FGM', 'FGA', '3FM', '3FA', 'FTM', 'FTA', 'REB', 'AST', 'STL', 'BLK', 'OREB', 'TO', 'PF']\n",
        "      \"\"\"\n",
        "      next(reader)\n",
        "      rawDataL = list(reader)\n",
        "print(rawDataL[0])"
      ],
      "execution_count": null,
      "outputs": [
        {
          "output_type": "stream",
          "name": "stdout",
          "text": [
            "['2016-10-25', '775770', '9', 'Cleveland', '21', 'New York', 'H', '', 'Y', '', 'W', '', '221', '113', '43', '91', '13', '35', '14', '19', '48', '28', '12', '4', '11', '13', '21']\n"
          ]
        }
      ]
    },
    {
      "cell_type": "code",
      "metadata": {
        "id": "aoMp39HpGVIl"
      },
      "source": [
        "import datetime\n",
        "\n",
        "def readTime(ampm):\n",
        "  t = 0\n",
        "  tL = ampm.replace(' ',':').split(':')\n",
        "  if tL[2] == \"PM\" and int(tL[0]) < 12:\n",
        "    t += 12\n",
        "  t += int(tL[0])\n",
        "  t += int(tL[1])/60\n",
        "  return t\n",
        "\n",
        "seasonBegin = datetime.datetime(2016, 10, 25)\n",
        "noonTime = readTime(\"12:00 PM\")\n",
        "#not using\n",
        "class Stats:\n",
        "  def __init__(self):\n",
        "    \"\"\"\n",
        "    MIN, PTS,FGM, FGA, 3FM, 3FA, FTM, FTA, REB, AST, STL, BLK, OREB, TO, PF\n",
        "    \"\"\"\n",
        "    self.MIN = 0\n",
        "    self.PTS = 0\n",
        "    self.FGM = 0\n",
        "    self.FGA = 0\n",
        "    self.FM3 = 0\n",
        "    self.FA3 = 0\n",
        "    self.FTM = 0\n",
        "    self.FTA = 0\n",
        "    self.REB = 0\n",
        "    self.AST = 0\n",
        "    self.STL = 0\n",
        "    self.BLK = 0\n",
        "    self.OREB = 0\n",
        "    self.TO = 0\n",
        "    self.PF = 0\n",
        "    self.Win = 0\n",
        "    self.Loss = 0\n",
        "    self.WinRate = 0\n",
        "  def update(self, MIN, PTS,FGM, FGA, FM3, FA3, FTM, FTA, REB, AST, STL, BLK, OREB, TO, PF):\n",
        "    self.MIN = MIN\n",
        "    self.PTS = PTS\n",
        "    self.FGM = FGM\n",
        "    self.FGA = FGA\n",
        "    self.FM3 = FM3\n",
        "    self.FA3 = FA3\n",
        "    self.FTM = FTM\n",
        "    self.FTA = FTA\n",
        "    self.REB = REB\n",
        "    self.AST = AST\n",
        "    self.STL = STL\n",
        "    self.BLK = BLK\n",
        "    self.OREB = OREB\n",
        "    self.TO = TO\n",
        "    self.PF = PF\n",
        "  def addWinRate(self, Win, Loss):\n",
        "    self.Win = Win\n",
        "    self.Loss = Loss\n",
        "    self.WinRate = Win/(Win+Loss)\n",
        "  def notEmpty(self):\n",
        "    return MIN>0\n",
        "\n",
        "class aGame:\n",
        "  def __init__(self, GameDay, GameID, TeamID, Team, OpponentID, Opponent, Location,\n",
        "       Division, Conference, Playoffs, WinOrLoss, PlayerType):\n",
        "    self.GameID = int(GameID)\n",
        "    self.TeamID = int(TeamID)\n",
        "    gdL = GameDay.split(\"-\")\n",
        "    self.GameDay = datetime.datetime(int(gdL[0]), int(gdL[1]), int(gdL[2]))\n",
        "    #self.GameTime = GameTime\n",
        "    self.DayCount = (self.GameDay - seasonBegin).days\n",
        "    self.Team = Team\n",
        "    self.OpponentID = int(OpponentID)\n",
        "    self.Opponent = Opponent\n",
        "    self.Home = Location == 'H'\n",
        "    self.Division = Division\n",
        "    self.Conference = Conference\n",
        "    self.Playoffs = Playoffs == 'Y'\n",
        "    self.WinOrLoss = WinOrLoss == 'W'\n",
        "    self.WinID = int(self.WinOrLoss)\n",
        "    self.LossID = int(not self.WinOrLoss)\n",
        "    self.PlayerType = PlayerType\n",
        "    self.TStats = Stats()\n",
        "    self.OppStats = Stats()\n",
        "    self.TStatsP = Stats()\n",
        "    self.OppStatsP = Stats()\n",
        "  def printDay(self):\n",
        "    print('Day', self.DayCount)\n",
        "\n",
        "def aLinetoGame(aline):\n",
        "  newG = aGame(aline[0], aline[1], aline[2], aline[3], aline[4], aline[5], aline[6],\n",
        "               aline[7], aline[8], aline[9], aline[10], aline[11])\n",
        "  for n in range(12, 27):\n",
        "    aline[n] = int(aline[n])\n",
        "\n",
        "  newG.TStats.update(aline[12], aline[13], aline[14], aline[15], aline[16], aline[17], \n",
        "                     aline[18], aline[19], aline[20], aline[21], aline[22], aline[23], \n",
        "                     aline[24], aline[25], aline[26])\n",
        "  return newG\n",
        "\n",
        "def readLines(filename):\n",
        "  with open(filename, newline='') as f:\n",
        "      reader = csv.reader(f)\n",
        "      next(reader)\n",
        "      rawDataL = list(reader)\n",
        "  #print(rawDataL)\n",
        "  #'ID', 'GameDay', 'GameTime', 'Home', 'HomeID', 'Visitor', 'VisitorID', 'ScoreVis', \n",
        "  #'ScoreHome', 'GameStatus', 'Venue', 'CityState', 'Neutral', 'Division', 'Conference', 'Playoffs'\n",
        "  #print(\"RawDataLength \",len(rawDataL))\n",
        "  data = []\n",
        "  for oneLine in rawDataL:\n",
        "    g = aLinetoGame(oneLine)\n",
        "    data.append(g)\n",
        "  return data"
      ],
      "execution_count": null,
      "outputs": []
    },
    {
      "cell_type": "code",
      "metadata": {
        "colab": {
          "base_uri": "https://localhost:8080/"
        },
        "id": "fB5yr-TbGZzO",
        "outputId": "daaf4379-eb7c-4513-c4b4-aad6282f3e1b"
      },
      "source": [
        "from copy import deepcopy\n",
        "allData = readLines(filename)\n",
        "print(allData[1])\n",
        "print(len(allData))\n",
        "\n",
        "for tg in allData:\n",
        "  previousGamesList = list(filter(lambda g: (g.DayCount < tg.DayCount) and (g.TeamID == tg.TeamID), allData))\n",
        "  pMIN = 0\n",
        "  pPTS = 0\n",
        "  pFGM = 0\n",
        "  pFGA = 0\n",
        "  pFM3 = 0\n",
        "  pFA3 = 0\n",
        "  pFTM = 0\n",
        "  pFTA = 0\n",
        "  pREB = 0\n",
        "  pAST = 0\n",
        "  pSTL = 0\n",
        "  pBLK = 0\n",
        "  pOREB = 0\n",
        "  pTO = 0\n",
        "  pPF = 0\n",
        "  pWin = 0\n",
        "  pLoss = 0\n",
        "  for p in previousGamesList:\n",
        "    g = p.TStats\n",
        "    pMIN += g.MIN\n",
        "    pPTS += g.PTS\n",
        "    pFGM += g.FGM\n",
        "    pFGA += g.FGA\n",
        "    pFM3 += g.FM3\n",
        "    pFA3 += g.FA3\n",
        "    pFTM += g.FTM\n",
        "    pFTA += g.FTA\n",
        "    pREB += g.REB\n",
        "    pAST += g.AST\n",
        "    pSTL += g.STL\n",
        "    pBLK += g.BLK\n",
        "    pOREB += g.OREB\n",
        "    pTO += g.TO\n",
        "    pPF += g.PF\n",
        "    pWin += p.WinID\n",
        "    pLoss += p.LossID\n",
        "  gPlayed = len(previousGamesList)\n",
        "  if gPlayed > 0:\n",
        "    tg.TStatsP.update(pMIN/gPlayed, pPTS/gPlayed, pFGM/gPlayed, pFGA/gPlayed, pFM3/gPlayed,\n",
        "                      pFA3/gPlayed, pFTM/gPlayed, pFTA/gPlayed, pREB/gPlayed, pAST/gPlayed,\n",
        "                      pSTL/gPlayed, pBLK/gPlayed, pOREB/gPlayed, pTO/gPlayed, pPF/gPlayed)\n",
        "    tg.TStatsP.addWinRate(pWin, pLoss)\n",
        "  else:\n",
        "    tg.TStatsP.update(234, 100, 44, 90, 10,\n",
        "                      30, 20, 25, 45, 25,\n",
        "                      7, 7, 11, 15, 22)\n",
        "    tg.TStatsP.addWinRate(1, 1)\n",
        "    #Random for the first game\n",
        "allGames = []\n",
        "for d in allData:\n",
        "  sameGameList = list(filter(lambda g: g.GameID == d.GameID, allGames))\n",
        "  if len(sameGameList) > 0:\n",
        "    for g in sameGameList:\n",
        "      if g.Home: \n",
        "        g.OppStats = deepcopy(d.TStats)\n",
        "        g.OppStatsP = deepcopy(d.TStatsP)\n",
        "      else:\n",
        "        d.OppStats = deepcopy(g.TStats)\n",
        "        d.OppStatsP = deepcopy(g.TStatsP)\n",
        "        allGames.remove(g)\n",
        "        allGames.append(d)\n",
        "  else:\n",
        "    allGames.append(d)\n",
        "allData = allGames\n",
        "print(len(allData))"
      ],
      "execution_count": null,
      "outputs": [
        {
          "output_type": "stream",
          "name": "stdout",
          "text": [
            "<__main__.aGame object at 0x7f46833c0390>\n",
            "2618\n",
            "1309\n"
          ]
        }
      ]
    },
    {
      "cell_type": "code",
      "metadata": {
        "id": "FHZfDVYcGcCO"
      },
      "source": [
        "def pick2Groups(allData):\n",
        "  afterN = 120\n",
        "  allData = list(filter(lambda g:not g.Playoffs, allData))\n",
        "  nData = len(allData)\n",
        "  test_daysAfterN = list(filter(lambda g: g.DayCount >= afterN, allData))\n",
        "  test_daysAfterN = list(map(lambda g: g.DayCount, test_daysAfterN))\n",
        "  test_days = list(set(test_daysAfterN))\n",
        "\n",
        "  test_listGroups = []\n",
        "  train_listGroups = []\n",
        "  for daysC in test_days:\n",
        "    test_listGroups.append(list(filter(lambda g: g.DayCount == daysC, allData)))\n",
        "    train_listGroups.append(list(filter(lambda g: g.DayCount < daysC, allData)))\n",
        "  return (test_listGroups, train_listGroups)"
      ],
      "execution_count": null,
      "outputs": []
    },
    {
      "cell_type": "code",
      "metadata": {
        "id": "R_RMUn5oGgFW"
      },
      "source": [
        "import torch\n",
        "import torch.nn as nn\n",
        "import torch.nn.functional as F\n",
        "\n",
        "def gametoTensor(g : aGame, last_day):\n",
        "  tensor = torch.zeros(1, 1, 78)\n",
        "  \n",
        "  tensor[0][0][g.TeamID] = 1\n",
        "  tensor[0][0][g.OpponentID+37] = 1\n",
        "  tensor[0][0][76] = last_day/300\n",
        "  tensor[0][0][77] = g.DayCount/300\n",
        "  \n",
        "  \n",
        "  return tensor\n",
        "\n",
        "def gamestoTensor(games, test = False):\n",
        "  g_tensor_list = []\n",
        "  last_day = games[-1].DayCount + int(not test)\n",
        "  for g in games:\n",
        "    g_tensor_list.append((gametoTensor(g, last_day), g.WinID))\n",
        "  return g_tensor_list"
      ],
      "execution_count": null,
      "outputs": []
    },
    {
      "cell_type": "code",
      "metadata": {
        "id": "udM3khWxGhLX"
      },
      "source": [
        "import time\n",
        "import math\n",
        "from statistics import mean\n",
        "def timeSince(since):\n",
        "    now = time.time()\n",
        "    s = now - since\n",
        "    m = math.floor(s / 60)\n",
        "    s -= m * 60\n",
        "    return '%dm %ds' % (m, s)\n",
        "\n",
        "def runModel(test_listGroups, train_listGroups):\n",
        "  start = time.time()\n",
        "  test_tlistGroups = list(map(lambda group: gamestoTensor(group, test = True), test_listGroups))\n",
        "  train_tlistGroups = list(map(lambda group: gamestoTensor(group), train_listGroups))\n",
        "  totalC_list = []\n",
        "  totalG_list = []\n",
        "  print(len(train_tlistGroups), len(test_tlistGroups))\n",
        "  for t in range(len(train_tlistGroups)):\n",
        "    print('Model: ', t)\n",
        "    model = nn.Sequential(nn.Linear(78, 64),\n",
        "                          nn.Tanh(),\n",
        "                          nn.Linear(64, 16),\n",
        "                          nn.Tanh(),\n",
        "                          nn.Linear(16, 2),\n",
        "                          nn.LogSoftmax(dim=1))\n",
        "    #model = model.to(device=device)\n",
        "    learning_rate = 0.005\n",
        "    optimizer = torch.optim.SGD(model.parameters(), lr=learning_rate)\n",
        "    loss_fn = nn.NLLLoss()#meansquarerror\n",
        "    n_epochs = 30\n",
        "    for epoch in range(n_epochs):\n",
        "      \n",
        "      train_loader = torch.utils.data.DataLoader(train_tlistGroups[t], batch_size = 4, shuffle = True)\n",
        "      for gs, labels in train_loader:\n",
        "        #gs = gs.to(device=device)\n",
        "        #labels = labels.to(device = device)\n",
        "\n",
        "        batch_size = gs.shape[0]\n",
        "        outputs = model(gs.view(batch_size, -1))\n",
        "        loss = loss_fn(outputs, labels)\n",
        "        optimizer.zero_grad()\n",
        "        loss.backward()\n",
        "        optimizer.step()\n",
        "        \"\"\"\n",
        "      if (epoch+1)%20 == 0:\n",
        "        print(timeSince(start))\n",
        "        print(\"Epoch: %d, Loss: %f\" % (epoch, float(loss)))\n",
        "        \"\"\"\n",
        "    totalC = 0\n",
        "    totalG = 0\n",
        "    for test_1day in test_tlistGroups[t]:\n",
        "      gs, label = test_1day\n",
        "      #gs = gs.to(device=device)\n",
        "      outputs = model(gs.view(1, -1))\n",
        "      _, predicted = torch.max(outputs, dim=1)\n",
        "      totalG += 1\n",
        "      print(int(predicted == label))\n",
        "      totalC += int(predicted == label)\n",
        "    totalC_list.append(totalC)\n",
        "    totalG_list.append(totalG)\n",
        "    accu = totalC / totalG\n",
        "    print(\"Accuracy: %f\" % (accu))\n",
        "  accu = sum(totalC_list)/sum(totalG_list)\n",
        "  print (\"Overall Accuracy: %f\" %(accu))\n",
        "  print(timeSince(start))\n",
        "  return accu"
      ],
      "execution_count": null,
      "outputs": []
    },
    {
      "cell_type": "code",
      "metadata": {
        "id": "p7xX9iKkX6d_"
      },
      "source": [
        "def writeIn(newRecord):\n",
        "  p1Name='/content/gdrive/My Drive/2021 Fall/Thesis I/Records/12_13AllTeamsS17.txt'\n",
        "\n",
        "  p1file = open(p1Name)\n",
        "\n",
        "\n",
        "  p1content = p1file.read()\n",
        "\n",
        "  #p1file.close()\n",
        "\n",
        "  p1file_content = p1file.read()\n",
        "  p1file.seek(0)\n",
        "  #Set file’s current position to the beginning\n",
        "  p1file=open(p1Name,\"w\")\n",
        "  p1file.write(p1content+str(newRecord)+\"\\n\")\n",
        "  p1file=open(p1Name)\n",
        "  p1file.seek(0)\n",
        "  p1file_content = p1file.read()\n",
        "  p1file.close()\n",
        "\n",
        "  print(p1file_content)"
      ],
      "execution_count": null,
      "outputs": []
    },
    {
      "cell_type": "code",
      "metadata": {
        "id": "tp3C58cRYgc6",
        "colab": {
          "base_uri": "https://localhost:8080/",
          "height": 1000
        },
        "outputId": "e764aa02-b5d2-4b2a-d1bc-79e1c6abcd30"
      },
      "source": [
        "trainGs, testGs = pick2Groups(allData)\n",
        "for i in range(50):\n",
        "  print('Run %d' %i)\n",
        "  writeInRank(runModel(trainGs, testGs))"
      ],
      "execution_count": null,
      "outputs": [
        {
          "output_type": "stream",
          "name": "stdout",
          "text": [
            "Run 0\n",
            "49 49\n",
            "Model:  0\n",
            "0\n",
            "1\n",
            "1\n",
            "Accuracy: 0.666667\n",
            "Model:  1\n",
            "0\n",
            "0\n",
            "1\n",
            "0\n",
            "1\n",
            "0\n",
            "1\n",
            "0\n",
            "1\n",
            "0\n",
            "Accuracy: 0.400000\n",
            "Model:  2\n",
            "0\n",
            "0\n",
            "1\n",
            "1\n",
            "1\n",
            "0\n",
            "1\n",
            "1\n",
            "Accuracy: 0.625000\n",
            "Model:  3\n",
            "0\n",
            "1\n",
            "0\n",
            "1\n",
            "0\n",
            "1\n",
            "1\n",
            "Accuracy: 0.571429\n",
            "Model:  4\n"
          ]
        },
        {
          "output_type": "error",
          "ename": "KeyboardInterrupt",
          "evalue": "ignored",
          "traceback": [
            "\u001b[0;31m---------------------------------------------------------------------------\u001b[0m",
            "\u001b[0;31mKeyboardInterrupt\u001b[0m                         Traceback (most recent call last)",
            "\u001b[0;32m<ipython-input-20-4a9650aba02a>\u001b[0m in \u001b[0;36m<module>\u001b[0;34m()\u001b[0m\n\u001b[1;32m      2\u001b[0m \u001b[0;32mfor\u001b[0m \u001b[0mi\u001b[0m \u001b[0;32min\u001b[0m \u001b[0mrange\u001b[0m\u001b[0;34m(\u001b[0m\u001b[0;36m50\u001b[0m\u001b[0;34m)\u001b[0m\u001b[0;34m:\u001b[0m\u001b[0;34m\u001b[0m\u001b[0;34m\u001b[0m\u001b[0m\n\u001b[1;32m      3\u001b[0m   \u001b[0mprint\u001b[0m\u001b[0;34m(\u001b[0m\u001b[0;34m'Run %d'\u001b[0m \u001b[0;34m%\u001b[0m\u001b[0mi\u001b[0m\u001b[0;34m)\u001b[0m\u001b[0;34m\u001b[0m\u001b[0;34m\u001b[0m\u001b[0m\n\u001b[0;32m----> 4\u001b[0;31m   \u001b[0mwriteIn\u001b[0m\u001b[0;34m(\u001b[0m\u001b[0mrunModel\u001b[0m\u001b[0;34m(\u001b[0m\u001b[0mtrainGs\u001b[0m\u001b[0;34m,\u001b[0m \u001b[0mtestGs\u001b[0m\u001b[0;34m)\u001b[0m\u001b[0;34m)\u001b[0m\u001b[0;34m\u001b[0m\u001b[0;34m\u001b[0m\u001b[0m\n\u001b[0m",
            "\u001b[0;32m<ipython-input-18-7cfe38c0c939>\u001b[0m in \u001b[0;36mrunModel\u001b[0;34m(test_listGroups, train_listGroups)\u001b[0m\n\u001b[1;32m     39\u001b[0m         \u001b[0moutputs\u001b[0m \u001b[0;34m=\u001b[0m \u001b[0mmodel\u001b[0m\u001b[0;34m(\u001b[0m\u001b[0mgs\u001b[0m\u001b[0;34m.\u001b[0m\u001b[0mview\u001b[0m\u001b[0;34m(\u001b[0m\u001b[0mbatch_size\u001b[0m\u001b[0;34m,\u001b[0m \u001b[0;34m-\u001b[0m\u001b[0;36m1\u001b[0m\u001b[0;34m)\u001b[0m\u001b[0;34m)\u001b[0m\u001b[0;34m\u001b[0m\u001b[0;34m\u001b[0m\u001b[0m\n\u001b[1;32m     40\u001b[0m         \u001b[0mloss\u001b[0m \u001b[0;34m=\u001b[0m \u001b[0mloss_fn\u001b[0m\u001b[0;34m(\u001b[0m\u001b[0moutputs\u001b[0m\u001b[0;34m,\u001b[0m \u001b[0mlabels\u001b[0m\u001b[0;34m)\u001b[0m\u001b[0;34m\u001b[0m\u001b[0;34m\u001b[0m\u001b[0m\n\u001b[0;32m---> 41\u001b[0;31m         \u001b[0moptimizer\u001b[0m\u001b[0;34m.\u001b[0m\u001b[0mzero_grad\u001b[0m\u001b[0;34m(\u001b[0m\u001b[0;34m)\u001b[0m\u001b[0;34m\u001b[0m\u001b[0;34m\u001b[0m\u001b[0m\n\u001b[0m\u001b[1;32m     42\u001b[0m         \u001b[0mloss\u001b[0m\u001b[0;34m.\u001b[0m\u001b[0mbackward\u001b[0m\u001b[0;34m(\u001b[0m\u001b[0;34m)\u001b[0m\u001b[0;34m\u001b[0m\u001b[0;34m\u001b[0m\u001b[0m\n\u001b[1;32m     43\u001b[0m         \u001b[0moptimizer\u001b[0m\u001b[0;34m.\u001b[0m\u001b[0mstep\u001b[0m\u001b[0;34m(\u001b[0m\u001b[0;34m)\u001b[0m\u001b[0;34m\u001b[0m\u001b[0;34m\u001b[0m\u001b[0m\n",
            "\u001b[0;32m/usr/local/lib/python3.7/dist-packages/torch/optim/optimizer.py\u001b[0m in \u001b[0;36mzero_grad\u001b[0;34m(self, set_to_none)\u001b[0m\n\u001b[1;32m    207\u001b[0m             \u001b[0;32mfor\u001b[0m \u001b[0mgroup\u001b[0m \u001b[0;32min\u001b[0m \u001b[0mself\u001b[0m\u001b[0;34m.\u001b[0m\u001b[0mparam_groups\u001b[0m\u001b[0;34m:\u001b[0m\u001b[0;34m\u001b[0m\u001b[0;34m\u001b[0m\u001b[0m\n\u001b[1;32m    208\u001b[0m                 \u001b[0;32mfor\u001b[0m \u001b[0mp\u001b[0m \u001b[0;32min\u001b[0m \u001b[0mgroup\u001b[0m\u001b[0;34m[\u001b[0m\u001b[0;34m'params'\u001b[0m\u001b[0;34m]\u001b[0m\u001b[0;34m:\u001b[0m\u001b[0;34m\u001b[0m\u001b[0;34m\u001b[0m\u001b[0m\n\u001b[0;32m--> 209\u001b[0;31m                     \u001b[0;32mif\u001b[0m \u001b[0mp\u001b[0m\u001b[0;34m.\u001b[0m\u001b[0mgrad\u001b[0m \u001b[0;32mis\u001b[0m \u001b[0;32mnot\u001b[0m \u001b[0;32mNone\u001b[0m\u001b[0;34m:\u001b[0m\u001b[0;34m\u001b[0m\u001b[0;34m\u001b[0m\u001b[0m\n\u001b[0m\u001b[1;32m    210\u001b[0m                         \u001b[0;32mif\u001b[0m \u001b[0mset_to_none\u001b[0m\u001b[0;34m:\u001b[0m\u001b[0;34m\u001b[0m\u001b[0;34m\u001b[0m\u001b[0m\n\u001b[1;32m    211\u001b[0m                             \u001b[0mp\u001b[0m\u001b[0;34m.\u001b[0m\u001b[0mgrad\u001b[0m \u001b[0;34m=\u001b[0m \u001b[0;32mNone\u001b[0m\u001b[0;34m\u001b[0m\u001b[0;34m\u001b[0m\u001b[0m\n",
            "\u001b[0;32m/usr/local/lib/python3.7/dist-packages/torch/_tensor.py\u001b[0m in \u001b[0;36mgrad\u001b[0;34m(self)\u001b[0m\n\u001b[1;32m    999\u001b[0m             \u001b[0;32mreturn\u001b[0m \u001b[0msuper\u001b[0m\u001b[0;34m(\u001b[0m\u001b[0mTensor\u001b[0m\u001b[0;34m,\u001b[0m \u001b[0mself\u001b[0m\u001b[0;34m)\u001b[0m\u001b[0;34m.\u001b[0m\u001b[0mrename\u001b[0m\u001b[0;34m(\u001b[0m\u001b[0mnames\u001b[0m\u001b[0;34m)\u001b[0m\u001b[0;34m\u001b[0m\u001b[0;34m\u001b[0m\u001b[0m\n\u001b[1;32m   1000\u001b[0m \u001b[0;34m\u001b[0m\u001b[0m\n\u001b[0;32m-> 1001\u001b[0;31m     \u001b[0;34m@\u001b[0m\u001b[0mproperty\u001b[0m\u001b[0;34m\u001b[0m\u001b[0;34m\u001b[0m\u001b[0m\n\u001b[0m\u001b[1;32m   1002\u001b[0m     \u001b[0;32mdef\u001b[0m \u001b[0mgrad\u001b[0m\u001b[0;34m(\u001b[0m\u001b[0mself\u001b[0m\u001b[0;34m)\u001b[0m\u001b[0;34m:\u001b[0m\u001b[0;34m\u001b[0m\u001b[0;34m\u001b[0m\u001b[0m\n\u001b[1;32m   1003\u001b[0m         \"\"\"\n",
            "\u001b[0;31mKeyboardInterrupt\u001b[0m: "
          ]
        }
      ]
    }
  ]
}
