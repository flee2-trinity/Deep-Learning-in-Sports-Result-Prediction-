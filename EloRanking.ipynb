{
  "nbformat": 4,
  "nbformat_minor": 0,
  "metadata": {
    "accelerator": "TPU",
    "colab": {
      "name": "elo2_20.ipynb",
      "provenance": [],
      "collapsed_sections": [],
      "authorship_tag": "ABX9TyO0ZVrDUj8tfCtmp91sGdwN",
      "include_colab_link": true
    },
    "kernelspec": {
      "display_name": "Python 3",
      "name": "python3"
    },
    "language_info": {
      "name": "python"
    }
  },
  "cells": [
    {
      "cell_type": "markdown",
      "metadata": {
        "id": "view-in-github",
        "colab_type": "text"
      },
      "source": [
        "<a href=\"https://colab.research.google.com/github/flee2-trinity/Deep-Learning-in-Sports-Result-Prediction-/blob/main/EloRanking.ipynb\" target=\"_parent\"><img src=\"https://colab.research.google.com/assets/colab-badge.svg\" alt=\"Open In Colab\"/></a>"
      ]
    },
    {
      "cell_type": "code",
      "metadata": {
        "colab": {
          "base_uri": "https://localhost:8080/"
        },
        "id": "9P_LCx-bGAqE",
        "outputId": "da54db83-ad9a-45b5-a53c-02a1d519aa05"
      },
      "source": [
        "import torch\n",
        "import torch.nn as nn\n",
        "import torch.nn.functional as F\n",
        "import torchvision\n",
        "import torchvision.transforms as transforms\n",
        "\n",
        "from google.colab import drive\n",
        "\n",
        "drive.mount('/content/gdrive')\n",
        "DATA_PATH = '/content/gdrive/My Drive/2021 Fall/Thesis I'"
      ],
      "execution_count": null,
      "outputs": [
        {
          "output_type": "stream",
          "name": "stdout",
          "text": [
            "Drive already mounted at /content/gdrive; to attempt to forcibly remount, call drive.mount(\"/content/gdrive\", force_remount=True).\n"
          ]
        }
      ]
    },
    {
      "cell_type": "code",
      "metadata": {
        "id": "UojsY1XfGNAO"
      },
      "source": [
        "from __future__ import unicode_literals, print_function, division\n",
        "from io import open\n",
        "import glob\n",
        "import os\n",
        "import datetime\n",
        "\n",
        "def findFiles(path): \n",
        "  return glob.glob(path)"
      ],
      "execution_count": null,
      "outputs": []
    },
    {
      "cell_type": "code",
      "source": [
        "import csv\n",
        "filenameE = '/content/gdrive/My Drive/2021 Fall/Thesis I/NBA Data/nba_elo.csv'\n",
        "with open(filenameE, newline='') as f:\n",
        "      reader = csv.reader(f)\n",
        "      \"\"\"\n",
        "      print(list(reader)[0])\n",
        "      ['date', 'season', 'neutral', 'playoff', 'team1', 'team2', 'elo1_pre', 'elo2_pre', \n",
        "      'elo_prob1', 'elo_prob2', 'elo1_post', 'elo2_post', 'carm-elo1_pre', 'carm-elo2_pre', \n",
        "      'carm-elo_prob1', 'carm-elo_prob2', 'carm-elo1_post', 'carm-elo2_post', 'raptor1_pre', \n",
        "      'raptor2_pre', 'raptor_prob1', 'raptor_prob2', 'score1', \n",
        "      'score2', 'quality', 'importance', 'total_rating']\n",
        "      \"\"\"\n",
        "      next(reader)\n",
        "      rawDataE = list(reader)\n",
        "print(rawDataE[0])"
      ],
      "metadata": {
        "id": "-cBXw433W2lT",
        "colab": {
          "base_uri": "https://localhost:8080/"
        },
        "outputId": "45f3fb28-79a8-4bab-d06e-7e8567faaa62"
      },
      "execution_count": null,
      "outputs": [
        {
          "output_type": "stream",
          "name": "stdout",
          "text": [
            "['1946-11-01', '1947', '0', '', 'TRH', 'NYK', '1300.0', '1300.0', '0.6400649998028851', '0.3599350001971149', '1293.2767', '1306.7233', '', '', '', '', '', '', '', '', '', '', '66', '68', '0', '', '']\n"
          ]
        }
      ]
    },
    {
      "cell_type": "code",
      "metadata": {
        "id": "aoMp39HpGVIl"
      },
      "source": [
        "import datetime\n",
        "\n",
        "def readTime(ampm):\n",
        "  t = 0\n",
        "  tL = ampm.replace(' ',':').split(':')\n",
        "  if tL[2] == \"PM\" and int(tL[0]) < 12:\n",
        "    t += 12\n",
        "  t += int(tL[0])\n",
        "  t += int(tL[1])/60\n",
        "  return t\n",
        "\n",
        "seasonBegin = datetime.datetime(2018, 10, 16)\n",
        "noonTime = readTime(\"12:00 PM\")\n",
        "#not using\n",
        "\n",
        "class aGame:\n",
        "  def __init__(self, date, season, playoff, team1, team2, elo1_pre, elo2_pre, \n",
        "      elo_prob1, elo_prob2, elo1_post, elo2_post, score1, score2, result = True):\n",
        "    self.season = int(season)\n",
        "    self.playoff = playoff != ''\n",
        "    self.team1 = team1\n",
        "    self.team2 = team2\n",
        "    self.elo1_pre = float(elo1_pre)\n",
        "    self.elo2_pre = float(elo2_pre) \n",
        "    self.elo_prob1 = float(elo_prob1)\n",
        "    self.elo_prob2 = float(elo_prob2)\n",
        "    self.result = result\n",
        "    if result:\n",
        "      self.elo1_post = float(elo1_post)\n",
        "      self.elo2_post = float(elo2_post)\n",
        "      self.score1 = int(score1)\n",
        "      self.score2 = int(score2)\n",
        "    self.date = date\n",
        "    gdL = date.split(\"-\")\n",
        "    self.GameDay = datetime.datetime(int(gdL[0]), int(gdL[1]), int(gdL[2]))\n",
        "    self.carm_elo = False\n",
        "    self.raptor = False\n",
        "  def updateCarm(self, carm_elo1_pre, carm_elo2_pre, \n",
        "    carm_elo_prob1, carm_elo_prob2, carm_elo1_post, carm_elo2_post):\n",
        "    self.carm_elo = True\n",
        "    self.carm_elo1_pre = float(carm_elo1_pre)\n",
        "    self.carm_elo2_pre = float(carm_elo2_pre)\n",
        "    self.carm_elo_prob1 = float(carm_elo_prob1)\n",
        "    self.carm_elo_prob2 = float(carm_elo_prob2)\n",
        "    self.carm_elo1_post = float(carm_elo1_post) \n",
        "    self.carm_elo2_post = float(carm_elo2_post)\n",
        "  def updateRaptor(self, raptor1_pre, raptor2_pre, raptor_prob1, raptor_prob2):\n",
        "    self.raptor = True\n",
        "    self.raptor1_pre = float(raptor1_pre)\n",
        "    self.raptor2_pre = float(raptor2_pre)\n",
        "    self.raptor_prob1 = float(raptor_prob1)\n",
        "    self.raptor_prob2 = float(raptor_prob2)\n",
        "    \n",
        "def aLinetoGame(aline):\n",
        "  #print(aline)\n",
        "  if aline[22] == '':\n",
        "    newG = aGame(aline[0], aline[1], aline[3], aline[4], aline[5], aline[6],\n",
        "               aline[7], aline[8], aline[9], aline[10], aline[11], \n",
        "               aline[22], aline[23], result = False)\n",
        "  else:\n",
        "    newG = aGame(aline[0], aline[1], aline[3], aline[4], aline[5], aline[6],\n",
        "               aline[7], aline[8], aline[9], aline[10], aline[11], \n",
        "               aline[22], aline[23])\n",
        "  if aline[12] != '':\n",
        "    newG.updateCarm(aline[12], aline[13], aline[14], aline[15], aline[16], aline[17])\n",
        "  if aline[18] != '':\n",
        "    newG.updateRaptor(aline[18], aline[19], aline[20], aline[21])\n",
        "  return newG\n",
        "\n",
        "def readLines(filename):\n",
        "  with open(filename, newline='') as f:\n",
        "      reader = csv.reader(f)\n",
        "      next(reader)\n",
        "      rawDataL = list(reader)\n",
        "  #print(rawDataL)\n",
        "  #'ID', 'GameDay', 'GameTime', 'Home', 'HomeID', 'Visitor', 'VisitorID', 'ScoreVis', \n",
        "  #'ScoreHome', 'GameStatus', 'Venue', 'CityState', 'Neutral', 'Division', 'Conference', 'Playoffs'\n",
        "  #print(\"RawDataLength \",len(rawDataL))\n",
        "  data = []\n",
        "  print(rawDataL[0])\n",
        "  for oneLine in rawDataL:\n",
        "    g = aLinetoGame(oneLine)\n",
        "    data.append(g)\n",
        "  return data"
      ],
      "execution_count": null,
      "outputs": []
    },
    {
      "cell_type": "code",
      "source": [
        "allData = readLines(filenameE)"
      ],
      "metadata": {
        "colab": {
          "base_uri": "https://localhost:8080/"
        },
        "id": "EU0sSaBZ5EnA",
        "outputId": "3191fc08-7ca9-4026-9b0e-87c1c0ffe760"
      },
      "execution_count": null,
      "outputs": [
        {
          "output_type": "stream",
          "name": "stdout",
          "text": [
            "['1946-11-01', '1947', '0', '', 'TRH', 'NYK', '1300.0', '1300.0', '0.6400649998028851', '0.3599350001971149', '1293.2767', '1306.7233', '', '', '', '', '', '', '', '', '', '', '66', '68', '0', '', '']\n"
          ]
        }
      ]
    },
    {
      "cell_type": "code",
      "source": [
        "tIDL = [set() for _ in range(2023)]\n",
        "for g in allData:\n",
        "  tIDL[g.season].add(g.team1)\n",
        "print(len(tIDL[2020]))"
      ],
      "metadata": {
        "colab": {
          "base_uri": "https://localhost:8080/"
        },
        "id": "s-I0HV1g_1i8",
        "outputId": "060e0b2a-1f85-4c9d-efbb-a92f18c4a853"
      },
      "execution_count": null,
      "outputs": [
        {
          "output_type": "stream",
          "name": "stdout",
          "text": [
            "30\n"
          ]
        }
      ]
    },
    {
      "cell_type": "code",
      "metadata": {
        "id": "FHZfDVYcGcCO"
      },
      "source": [
        "def sep2Groups(allD, season, afterN):#For Ranking\n",
        "  allDataP = list(filter(lambda g:not g.playoff and g.season == season, allD))\n",
        "  test_daysAfterN = list(map(lambda g: g.GameDay, allDataP))\n",
        "  test_daySet = set(test_daysAfterN)\n",
        "  for i in range(afterN):\n",
        "    test_daySet.remove(min(test_daySet))\n",
        "  print(len(test_daySet))\n",
        "  test_listGroups = []\n",
        "  train_listGroups = []\n",
        "  for daysC in sorted(test_daySet):\n",
        "    test_listGroups.append(list(filter(lambda g: g.GameDay >= daysC, allDataP)))\n",
        "    train_listGroups.append(list(filter(lambda g: g.GameDay < daysC, allDataP)))\n",
        "  return (train_listGroups, test_listGroups)"
      ],
      "execution_count": null,
      "outputs": []
    },
    {
      "cell_type": "code",
      "source": [
        "def allTeamsComb(season):\n",
        "  allComb = []\n",
        "  for a in tIDL[season]:\n",
        "    for b in tIDL[season]:\n",
        "      if a != b:\n",
        "        allComb.append((a, b))\n",
        "  return allComb"
      ],
      "metadata": {
        "id": "WJEMeBR1srHg"
      },
      "execution_count": null,
      "outputs": []
    },
    {
      "cell_type": "code",
      "source": [
        "from collections import Counter\n",
        "def getRankList(rankRecord, season):\n",
        "  #print(len(rankRecord))\n",
        "  rC = Counter(rankRecord).most_common()\n",
        "  r = list(map(lambda x: x[0], rC))\n",
        "  nRank = []\n",
        "  for a in tIDL[season]:\n",
        "    if a not in r:\n",
        "      nRank.append(len(tIDL[season]))\n",
        "    else:\n",
        "      nRank.append(r.index(a)+1)\n",
        "  return nRank"
      ],
      "metadata": {
        "id": "9sBVlgPt4lkn"
      },
      "execution_count": null,
      "outputs": []
    },
    {
      "cell_type": "code",
      "source": [
        "def finalRanking(data, season):\n",
        "  allRecord = []\n",
        "  for g in list(filter(lambda g:not g.playoff and g.season == season, allData)):\n",
        "    if g.score1 >= g.score2 :\n",
        "      allRecord.append(g.team1)\n",
        "    else:\n",
        "      allRecord.append(g.team2)\n",
        "  return getRankList(allRecord, season)\n"
      ],
      "metadata": {
        "id": "yaZcvYPD34Ma"
      },
      "execution_count": null,
      "outputs": []
    },
    {
      "cell_type": "code",
      "source": [
        "def getRating(xlist, team):\n",
        "  #print(team)\n",
        "  tempL = list(filter(lambda x: x[0] == team, xlist))\n",
        "  t = max(tempL, key = lambda x: x[2])\n",
        "  return t[1]"
      ],
      "metadata": {
        "id": "9uVuIrW1VzeW"
      },
      "execution_count": null,
      "outputs": []
    },
    {
      "cell_type": "code",
      "source": [
        "import math\n",
        "from statistics import mean\n",
        "import scipy.stats as stats\n",
        "from scipy.stats import kendalltau\n",
        "def getTauElu(trainL, scheduleL, season):\n",
        "  totalR_list = []\n",
        "  endRaking = finalRanking(allData, season)\n",
        "  powerTestList = allTeamsComb(season)\n",
        "  for date in range(len(trainL)):\n",
        "    eluList = []\n",
        "    for g in trainL[date]:\n",
        "      eluList.append((g.team1, g.elo1_post, g.GameDay))\n",
        "      eluList.append((g.team2, g.elo2_post, g.GameDay))\n",
        "    #for e in eluList:\n",
        "      #print(e)\n",
        "\n",
        "    powerRankRecord = []\n",
        "    for a, b in powerTestList:\n",
        "      if getRating(eluList, a) + 100 >= getRating(eluList, b):\n",
        "        powerRankRecord.append(a)\n",
        "      else:\n",
        "        powerRankRecord.append(b)\n",
        "    powerRankList = getRankList(powerRankRecord, season)#Power Ranking\n",
        "    #print(playOffRanking)\n",
        "    powTau, _ = kendalltau(endRaking, powerRankList)\n",
        "    #print(powTau)\n",
        "    scheduleRecord = []\n",
        "    for g in scheduleL[date]:\n",
        "      if getRating(eluList, g.team1) + 100 >= getRating(eluList, g.team2):\n",
        "        powerRankRecord.append(g.team1)\n",
        "      else:\n",
        "        powerRankRecord.append(g.team2)\n",
        "    currentRecord = []\n",
        "    for g in trainL[date]:\n",
        "      if g.score1 >= g.score2:\n",
        "        currentRecord.append(g.team1)\n",
        "      else:\n",
        "        currentRecord.append(g.team2)\n",
        "    predictEndRanking = getRankList(currentRecord + scheduleRecord, season)\n",
        "    playTau, _ = kendalltau(endRaking, predictEndRanking)\n",
        "    #print(playTau)\n",
        "    totalR_list.append((date, powTau, playTau, season, 'elo'))\n",
        "  return totalR_list    "
      ],
      "metadata": {
        "id": "kxcy-f-bxBQx"
      },
      "execution_count": null,
      "outputs": []
    },
    {
      "cell_type": "code",
      "source": [
        "def getTauRaptor(trainL, scheduleL, season):\n",
        "  totalR_list = []\n",
        "  endRaking = finalRanking(allData, season)\n",
        "  powerTestList = allTeamsComb(season)\n",
        "  for date in range(len(trainL)):\n",
        "    eluList = []\n",
        "    for g in trainL[date]:\n",
        "      eluList.append((g.team1, g.elo1_post, g.GameDay))\n",
        "      eluList.append((g.team2, g.elo2_post, g.GameDay))\n",
        "    #for e in eluList:\n",
        "      #print(e)\n",
        "\n",
        "    powerRankRecord = []\n",
        "    for a, b in powerTestList:\n",
        "      if getRating(eluList, a) + 100 >= getRating(eluList, b):\n",
        "        powerRankRecord.append(a)\n",
        "      else:\n",
        "        powerRankRecord.append(b)\n",
        "    powerRankList = getRankList(powerRankRecord, season)#Power Ranking\n",
        "    #print(playOffRanking)\n",
        "    powTau, _ = kendalltau(endRaking, powerRankList)\n",
        "    #print(powTau)\n",
        "    scheduleRecord = []\n",
        "    for g in scheduleL[date]:\n",
        "      if getRating(eluList, g.team1) + 100 >= getRating(eluList, g.team2):\n",
        "        powerRankRecord.append(g.team1)\n",
        "      else:\n",
        "        powerRankRecord.append(g.team2)\n",
        "    currentRecord = []\n",
        "    for g in trainL[date]:\n",
        "      if g.score1 >= g.score2:\n",
        "        currentRecord.append(g.team1)\n",
        "      else:\n",
        "        currentRecord.append(g.team2)\n",
        "    predictEndRanking = getRankList(currentRecord + scheduleRecord, season)\n",
        "    playTau, _ = kendalltau(endRaking, predictEndRanking)\n",
        "    #print(playTau)\n",
        "    totalR_list.append((date, powTau, playTau, season, 'elo'))    "
      ],
      "metadata": {
        "id": "T5cQOayTeX83"
      },
      "execution_count": null,
      "outputs": []
    },
    {
      "cell_type": "code",
      "metadata": {
        "id": "p7xX9iKkX6d_"
      },
      "source": [
        "def writeInRank(newRecord):\n",
        "  p1Name='/content/gdrive/My Drive/2021 Fall/Thesis I/Records/elo2_20.txt'\n",
        "  p1file=open(p1Name)\n",
        "  p1file_content = p1file.read()\n",
        "  p1file=open(p1Name,\"w\")\n",
        "  p1file.write(p1file_content)\n",
        "  for date, pow, s, season, tp in newRecord:\n",
        "    p1file.write(str(date)+\" \"+ str(pow) + \" \" + str(s) + \" \" + str(season) + \" \" + str(tp) + \"\\n\")\n",
        "  p1file.write(\"-\\n\")\n",
        "  p1file=open(p1Name)\n",
        "  p1file_content = p1file.read()\n",
        "  #print(p1file_content)\n",
        "  p1file.close()"
      ],
      "execution_count": null,
      "outputs": []
    },
    {
      "cell_type": "code",
      "source": [
        "def predict(season):\n",
        "  trainGs, sceduleGs = sep2Groups(allData, season, 5)\n",
        "  newRecord = getTauElu(trainGs, sceduleGs, season)\n",
        "  writeInRank(newRecord)"
      ],
      "metadata": {
        "id": "9Matrw4C1_2Y"
      },
      "execution_count": null,
      "outputs": []
    },
    {
      "cell_type": "code",
      "source": [
        "for s in range(2000, 2022):\n",
        "  print(s)\n",
        "  predict(s)"
      ],
      "metadata": {
        "colab": {
          "base_uri": "https://localhost:8080/"
        },
        "id": "i2vEpF2vH5eE",
        "outputId": "95f8a8bd-d0a0-4cfb-97e2-bf1d505233e4"
      },
      "execution_count": null,
      "outputs": [
        {
          "output_type": "stream",
          "name": "stdout",
          "text": [
            "2000\n",
            "157\n",
            "2001\n",
            "159\n",
            "2002\n",
            "158\n",
            "2003\n",
            "159\n",
            "2004\n",
            "159\n",
            "2005\n",
            "159\n",
            "2006\n",
            "159\n",
            "2007\n",
            "158\n",
            "2008\n",
            "157\n",
            "2009\n",
            "158\n",
            "2010\n",
            "159\n",
            "2011\n",
            "159\n",
            "2012\n",
            "115\n",
            "2013\n",
            "158\n",
            "2014\n",
            "158\n",
            "2015\n",
            "157\n",
            "2016\n",
            "156\n",
            "2017\n",
            "157\n",
            "2018\n",
            "163\n",
            "2019\n",
            "163\n",
            "2020\n",
            "145\n",
            "2021\n",
            "135\n"
          ]
        }
      ]
    }
  ]
}