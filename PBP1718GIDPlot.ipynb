{
  "nbformat": 4,
  "nbformat_minor": 0,
  "metadata": {
    "colab": {
      "name": "PBP1718GIDPlot.ipynb",
      "provenance": [],
      "collapsed_sections": [],
      "authorship_tag": "ABX9TyMwyBe/jPqfcpNz3axtms7P",
      "include_colab_link": true
    },
    "kernelspec": {
      "name": "python3",
      "display_name": "Python 3"
    },
    "language_info": {
      "name": "python"
    }
  },
  "cells": [
    {
      "cell_type": "markdown",
      "metadata": {
        "id": "view-in-github",
        "colab_type": "text"
      },
      "source": [
        "<a href=\"https://colab.research.google.com/github/flee2-trinity/Deep-Learning-in-Sports-Result-Prediction-/blob/main/PBP1718GIDPlot.ipynb\" target=\"_parent\"><img src=\"https://colab.research.google.com/assets/colab-badge.svg\" alt=\"Open In Colab\"/></a>"
      ]
    },
    {
      "cell_type": "code",
      "metadata": {
        "colab": {
          "base_uri": "https://localhost:8080/"
        },
        "id": "8dvberQjLOnF",
        "outputId": "cfcebeee-51b8-4576-e214-f10f84296e88"
      },
      "source": [
        "from google.colab import drive\n",
        "\n",
        "drive.mount('/content/gdrive')\n",
        "DATA_PATH = '/content/gdrive/My Drive/2021 Fall/Thesis I'"
      ],
      "execution_count": null,
      "outputs": [
        {
          "output_type": "stream",
          "name": "stdout",
          "text": [
            "Drive already mounted at /content/gdrive; to attempt to forcibly remount, call drive.mount(\"/content/gdrive\", force_remount=True).\n"
          ]
        }
      ]
    },
    {
      "cell_type": "code",
      "metadata": {
        "id": "9wApZoPcLcW5"
      },
      "source": [
        "import csv\n",
        "filename = '/content/gdrive/My Drive/2021 Fall/Thesis I/Records/PBP1718GID.txt'\n",
        "with open(filename, newline='') as f:\n",
        "  reader = csv.reader(f)\n",
        "  p1content = list(reader)"
      ],
      "execution_count": null,
      "outputs": []
    },
    {
      "cell_type": "code",
      "source": [
        "from collections import defaultdict\n",
        "groups = defaultdict(list)\n",
        "\"\"\"\n",
        "for o in allData:\n",
        "    groups[o.GameID].append(o)\n",
        "\n",
        "gList = list(groups.values())\n",
        "\"\"\""
      ],
      "metadata": {
        "colab": {
          "base_uri": "https://localhost:8080/",
          "height": 36
        },
        "id": "hzUrkjPmYy8k",
        "outputId": "884ca486-9410-4528-e650-18b5f5c05230"
      },
      "execution_count": null,
      "outputs": [
        {
          "output_type": "execute_result",
          "data": {
            "text/plain": [
              "'\\nfor o in allData:\\n    groups[o.GameID].append(o)\\n\\ngList = list(groups.values())\\n'"
            ],
            "application/vnd.google.colaboratory.intrinsic+json": {
              "type": "string"
            }
          },
          "metadata": {},
          "execution_count": 10
        }
      ]
    },
    {
      "cell_type": "code",
      "source": [
        "print(len(p1content))\n",
        "print(p1content[200:300])\n",
        "for t in range(len(p1content)):\n",
        "  s = p1content[t][0].split()\n",
        "  if len(s) >= 4 :\n",
        "    #print(t)\n",
        "    #(str(label)+\" \"+ str(period) + \" \" + str(tm)+ \" \" + str(abs(diff))+  \" \" + str(gID)+ \" \" + str(dayC) + \"\\n\")\n",
        "    if int(s[1])> 0:\n",
        "      groups[int(s[4])].append((float(s[0]), int(s[1]), int(s[2]), float(s[3]), int(s[5])))\n",
        "gList = list(groups.values())"
      ],
      "metadata": {
        "id": "QiNFSMHF9nZn",
        "colab": {
          "base_uri": "https://localhost:8080/"
        },
        "outputId": "1b70261f-8d23-4682-dde2-21ef3c9afdbc"
      },
      "execution_count": null,
      "outputs": [
        {
          "output_type": "stream",
          "name": "stdout",
          "text": [
            "168715\n",
            "[['1 3 675 4 981541 120'], ['1 3 670 4 981541 120'], ['1 3 665 4 981541 120'], ['1 3 660 4 981541 120'], ['1 3 657 2 981541 120'], ['1 3 637 4 981541 120'], ['1 3 618 4 981541 120'], ['1 3 610 2 981541 120'], ['1 3 610 4 981541 120'], ['1 3 601 2 981541 120'], ['1 3 590 1 981541 120'], ['1 3 562 1 981541 120'], ['1 3 558 1 981541 120'], ['1 3 558 2 981541 120'], ['1 3 558 2 981541 120'], ['1 3 541 2 981541 120'], ['1 3 527 2 981541 120'], ['1 3 505 0 981541 120'], ['1 3 499 0 981541 120'], ['1 3 484 2 981541 120'], ['1 3 474 2 981541 120'], ['1 3 472 2 981541 120'], ['1 3 472 2 981541 120'], ['1 3 468 2 981541 120'], ['1 3 467 0 981541 120'], ['1 3 446 0 981541 120'], ['1 3 437 0 981541 120'], ['1 3 423 2 981541 120'], ['1 3 399 2 981541 120'], ['1 3 387 5 981541 120'], ['1 3 365 3 981541 120'], ['1 3 353 6 981541 120'], ['1 3 331 6 981541 120'], ['1 3 320 6 981541 120'], ['1 3 311 6 981541 120'], ['1 3 311 6 981541 120'], ['1 3 311 6 981541 120'], ['1 3 311 6 981541 120'], ['1 3 311 6 981541 120'], ['1 3 299 6 981541 120'], ['1 3 299 6 981541 120'], ['1 3 293 8 981541 120'], ['1 3 266 8 981541 120'], ['1 3 266 8 981541 120'], ['1 3 260 10 981541 120'], ['1 3 259 10 981541 120'], ['1 3 259 10 981541 120'], ['1 3 242 10 981541 120'], ['1 3 231 10 981541 120'], ['1 3 229 10 981541 120'], ['1 3 226 10 981541 120'], ['1 3 224 10 981541 120'], ['1 3 217 10 981541 120'], ['1 3 213 10 981541 120'], ['1 3 204 10 981541 120'], ['1 3 199 10 981541 120'], ['1 3 178 12 981541 120'], ['1 3 144 10 981541 120'], ['1 3 141 10 981541 120'], ['1 3 140 9 981541 120'], ['1 3 140 8 981541 120'], ['1 3 115 10 981541 120'], ['1 3 101 10 981541 120'], ['1 3 100 10 981541 120'], ['1 3 92 10 981541 120'], ['1 3 90 10 981541 120'], ['1 3 87 13 981541 120'], ['1 3 68 13 981541 120'], ['1 3 68 13 981541 120'], ['1 3 68 13 981541 120'], ['1 3 68 13 981541 120'], ['1 3 68 12 981541 120'], ['1 3 61 12 981541 120'], ['1 3 58 12 981541 120'], ['1 3 40 14 981541 120'], ['1 3 34 14 981541 120'], ['1 3 32 12 981541 120'], ['1 3 18 12 981541 120'], ['1 3 17 14 981541 120'], ['1 3 17 12 981541 120'], ['1 3 12 14 981541 120'], ['1 3 8 14 981541 120'], ['1 3 4 14 981541 120'], ['1 3 1 13 981541 120'], ['1 3 1 13 981541 120'], ['1 3 1 13 981541 120'], ['1 3 0 13 981541 120'], ['1 3 0 13 981541 120'], ['1 4 706 13 981541 120'], ['1 4 694 11 981541 120'], ['1 4 683 11 981541 120'], ['1 4 665 11 981541 120'], ['1 4 649 11 981541 120'], ['1 4 649 11 981541 120'], ['1 4 649 11 981541 120'], ['1 4 628 11 981541 120'], ['1 4 617 8 981541 120'], ['1 4 597 8 981541 120'], ['1 4 593 8 981541 120'], ['1 4 590 8 981541 120']]\n"
          ]
        }
      ]
    },
    {
      "cell_type": "code",
      "source": [
        "xList = [i for i in range(1, 97)]\n",
        "print(len(gList))\n",
        "newL1 = []\n",
        "newL2 = []\n",
        "for gl in gList:\n",
        "  y1List = [[]for i in range(97)]\n",
        "  y2List = [[]for i in range(97)]\n",
        "  for g in gl:\n",
        "\n",
        "    t = int((int(g[1])-1)*24 + (720-int(g[2]))/30)\n",
        "    y1List[t].append(g[0])\n",
        "    y2List[t].append(g[3])\n",
        "    \n",
        "  newL1.append(y1List)\n",
        "  newL2.append(y2List)"
      ],
      "metadata": {
        "colab": {
          "base_uri": "https://localhost:8080/"
        },
        "id": "sPwKCf99iDN7",
        "outputId": "71aff55a-4fd2-4b34-aa67-fd4c04e849a2"
      },
      "execution_count": null,
      "outputs": [
        {
          "output_type": "stream",
          "name": "stdout",
          "text": [
            "248\n"
          ]
        }
      ]
    },
    {
      "cell_type": "code",
      "source": [
        "from statistics import mean\n",
        "meany1 = []\n",
        "meany2 = []\n",
        "for yL in newL1:\n",
        "  tempL = list(map(lambda x: mean(x) if len(x) > 0 else -1, yL[:96]))\n",
        "  meany1.append(tempL)\n",
        "for yL in newL2:\n",
        "  tempL = list(map(lambda x: mean(x) if len(x) > 0 else -1, yL[:96]))\n",
        "  meany2.append(tempL)\n",
        "y1ListM = []\n",
        "y2ListM = []\n",
        "e = 0\n",
        "for i in range(96):\n",
        "  q = 0.0\n",
        "  total = 0.0\n",
        "  for x in meany1:\n",
        "    if x[i] >= 0:\n",
        "      q += 1\n",
        "      total += x[i]\n",
        "    else:\n",
        "      e += 1\n",
        "  y1ListM.append(total/q)\n",
        "for i in range(96):\n",
        "  q = 0.0\n",
        "  total = 0.0\n",
        "  for x in meany2:\n",
        "    if x[i] >= 0:\n",
        "      q += 1\n",
        "      total += x[i]\n",
        "  y2ListM.append(total/q)\n",
        "    \n",
        "print(e)\n",
        "print(y1ListM)"
      ],
      "metadata": {
        "id": "1KubI7VuHvh3",
        "colab": {
          "base_uri": "https://localhost:8080/"
        },
        "outputId": "24d5c4e4-b0a7-47e5-d144-2f994f528a65"
      },
      "execution_count": null,
      "outputs": [
        {
          "output_type": "stream",
          "name": "stdout",
          "text": [
            "142\n",
            "[0.6490778688524591, 0.645651117589893, 0.645340136054422, 0.6418715846994536, 0.6358037340619307, 0.6447254616132168, 0.6521234207968901, 0.6434110787172013, 0.6367039295392952, 0.6384436701509872, 0.6369684798038457, 0.6317312937739767, 0.6322453161592506, 0.6371349059104162, 0.6358959919935531, 0.6407278358497871, 0.6424796747967481, 0.6384210865918182, 0.6487256420183249, 0.6538811459543168, 0.6485288424312816, 0.6524220867208672, 0.6524214447683835, 0.6509146341463413, 0.6661224489795919, 0.662385811467444, 0.6481524742195474, 0.6537650019357336, 0.6476238869531551, 0.6415846511764879, 0.644229094076655, 0.6412698412698412, 0.6450999293104557, 0.6419895893580103, 0.6379048582995951, 0.6428866455182245, 0.6423342739132213, 0.6455905430601787, 0.643028024606972, 0.6421183378500451, 0.647320223636013, 0.6499614420667053, 0.6519327164064005, 0.6581646423751688, 0.6498144399460187, 0.6571862348178138, 0.6635162601626015, 0.6631096973202236, 0.6709688346883468, 0.6650134952766532, 0.6672280294231515, 0.6662280701754386, 0.6702961672473867, 0.6781376518218624, 0.6712406015037594, 0.6785762483130903, 0.6857624831309044, 0.6874209575429088, 0.6919425087108013, 0.6907163742690059, 0.6988553113553112, 0.6992257065427797, 0.6993091703618018, 0.6879520289298516, 0.692747535842294, 0.699176747311828, 0.6945850202429151, 0.6962845622119815, 0.7045194892473117, 0.7030894544052438, 0.7025803497577691, 0.7062544310528183, 0.7004723346828611, 0.7053595430107528, 0.7042424829010195, 0.7096174155145929, 0.7109504530557161, 0.7153812920950018, 0.7153160436055173, 0.7158698156682027, 0.7156036168132944, 0.7178475033738192, 0.7249903605166762, 0.7277520724889147, 0.7201969083548032, 0.7207080200501252, 0.7219870071684586, 0.7127371273712737, 0.7251638712165029, 0.7271953405017922, 0.7175840241629715, 0.713109756097561, 0.7166666666666667, 0.7175213675213674, 0.7141084386044061, 0.7190844243475822]\n"
          ]
        }
      ]
    },
    {
      "cell_type": "code",
      "metadata": {
        "id": "lWrudjYMaHyb",
        "colab": {
          "base_uri": "https://localhost:8080/",
          "height": 265
        },
        "outputId": "4ff9f6f3-4fc1-4934-b0eb-7acfce67f47b"
      },
      "source": [
        "import matplotlib.pyplot as plt\n",
        "import numpy as np\n",
        "fig, ax_left = plt.subplots()\n",
        "ax_right = ax_left.twinx()\n",
        "ax_left.plot(xList, y1ListM, label = \"Accuracy\", color='green')\n",
        "ax_right.plot(xList, y2ListM, label = \"Diff1718\", color='blue')\n",
        "plt.legend()\n",
        "plt.show()"
      ],
      "execution_count": null,
      "outputs": [
        {
          "output_type": "display_data",
          "data": {
            "text/plain": [
              "<Figure size 432x288 with 2 Axes>"
            ],
            "image/png": "[encoded data removed]"
          },
          "metadata": {
            "needs_background": "light"
          }
        }
      ]
    }
  ]
}