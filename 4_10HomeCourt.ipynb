{
  "nbformat": 4,
  "nbformat_minor": 0,
  "metadata": {
    "colab": {
      "name": "4_10HomeCourt.ipynb",
      "provenance": [],
      "collapsed_sections": [],
      "authorship_tag": "ABX9TyPhdXF1EkXFAGTc25qxjvtx",
      "include_colab_link": true
    },
    "kernelspec": {
      "name": "python3",
      "display_name": "Python 3"
    },
    "language_info": {
      "name": "python"
    }
  },
  "cells": [
    {
      "cell_type": "markdown",
      "metadata": {
        "id": "view-in-github",
        "colab_type": "text"
      },
      "source": [
        "<a href=\"https://colab.research.google.com/github/flee2-trinity/Deep-Learning-in-Sports-Result-Prediction-/blob/main/4_10HomeCourt.ipynb\" target=\"_parent\"><img src=\"https://colab.research.google.com/assets/colab-badge.svg\" alt=\"Open In Colab\"/></a>"
      ]
    },
    {
      "cell_type": "code",
      "metadata": {
        "colab": {
          "base_uri": "https://localhost:8080/"
        },
        "id": "fYV3hgF-yff-",
        "outputId": "4123a407-063a-497e-af27-ef06725d63a7"
      },
      "source": [
        "import torch\n",
        "import torch.nn as nn\n",
        "import torch.nn.functional as F\n",
        "import torchvision\n",
        "import torchvision.transforms as transforms\n",
        "\n",
        "from google.colab import drive\n",
        "\n",
        "drive.mount('/content/gdrive')\n",
        "DATA_PATH = '/content/gdrive/My Drive/2021 Fall/Thesis I'"
      ],
      "execution_count": 56,
      "outputs": [
        {
          "output_type": "stream",
          "name": "stdout",
          "text": [
            "Drive already mounted at /content/gdrive; to attempt to forcibly remount, call drive.mount(\"/content/gdrive\", force_remount=True).\n"
          ]
        }
      ]
    },
    {
      "cell_type": "code",
      "metadata": {
        "id": "PKvTll2LymRs"
      },
      "source": [
        "from __future__ import unicode_literals, print_function, division\n",
        "from io import open\n",
        "import glob\n",
        "import os\n",
        "import datetime\n",
        "\n",
        "def findFiles(path): \n",
        "  return glob.glob(path)"
      ],
      "execution_count": 57,
      "outputs": []
    },
    {
      "cell_type": "markdown",
      "metadata": {
        "id": "p5FNjVZnMdN5"
      },
      "source": [
        ""
      ]
    },
    {
      "cell_type": "code",
      "metadata": {
        "colab": {
          "base_uri": "https://localhost:8080/"
        },
        "id": "cpe1DOtN1LDo",
        "outputId": "79e29943-6005-4a21-82d2-93c18882aa32"
      },
      "source": [
        "import csv\n",
        "\n",
        "filename = '/content/gdrive/My Drive/2021 Fall/Thesis I/NBA Data/nba 12-13/NatStat-NBA2013-Team_Statlines.csv'\n",
        "seasonBegin = datetime.datetime(2012, 10, 16)\n",
        "y = 2012\n",
        "with open(filename, newline='') as f:\n",
        "      reader = csv.reader(f)\n",
        "      \"\"\"\n",
        "      print(list(reader))\n",
        "      ['GameDay', 'GameID', 'TeamID', 'Team', 'OpponentID', 'Opponent', 'Location',\n",
        "       'Division', 'Conference', 'Playoffs', 'WinOrLoss', 'PlayerType', 'MIN', 'PTS', \n",
        "       'FGM', 'FGA', '3FM', '3FA', 'FTM', 'FTA', 'REB', 'AST', 'STL', 'BLK', 'OREB', 'TO', 'PF']\n",
        "      \"\"\"\n",
        "      next(reader)\n",
        "      rawDataL = list(reader)\n",
        "print(rawDataL[0])"
      ],
      "execution_count": 58,
      "outputs": [
        {
          "output_type": "stream",
          "name": "stdout",
          "text": [
            "['2012-10-30', '28027', '9', 'Cleveland', '20', 'Washington', 'H', '', 'Western', '', 'W', '', '235', '94', '36', '79', '7', '20', '15', '22', '54', '22', '7', '5', '18', '12', '21']\n"
          ]
        }
      ]
    },
    {
      "cell_type": "code",
      "metadata": {
        "id": "o5Lbu9ASyuey"
      },
      "source": [
        "import datetime\n",
        "\n",
        "def readTime(ampm):\n",
        "  t = 0\n",
        "  tL = ampm.replace(' ',':').split(':')\n",
        "  if tL[2] == \"PM\" and int(tL[0]) < 12:\n",
        "    t += 12\n",
        "  t += int(tL[0])\n",
        "  t += int(tL[1])/60\n",
        "  return t\n",
        "\n",
        "\n",
        "noonTime = readTime(\"12:00 PM\")\n",
        "#not using\n",
        "class Stats:\n",
        "  def __init__(self):\n",
        "    \"\"\"\n",
        "    MIN, PTS,FGM, FGA, 3FM, 3FA, FTM, FTA, REB, AST, STL, BLK, OREB, TO, PF\n",
        "    \"\"\"\n",
        "    self.MIN = 0\n",
        "    self.PTS = 0\n",
        "    self.FGM = 0\n",
        "    self.FGA = 0\n",
        "    self.FM3 = 0\n",
        "    self.FA3 = 0\n",
        "    self.FTM = 0\n",
        "    self.FTA = 0\n",
        "    self.REB = 0\n",
        "    self.AST = 0\n",
        "    self.STL = 0\n",
        "    self.BLK = 0\n",
        "    self.OREB = 0\n",
        "    self.TO = 0\n",
        "    self.PF = 0\n",
        "    self.Win = 0\n",
        "    self.Loss = 0\n",
        "    self.WinRate = 0\n",
        "  def update(self, MIN, PTS,FGM, FGA, FM3, FA3, FTM, FTA, REB, AST, STL, BLK, OREB, TO, PF):\n",
        "    self.MIN = MIN\n",
        "    self.PTS = PTS\n",
        "    self.FGM = FGM\n",
        "    self.FGA = FGA\n",
        "    self.FM3 = FM3\n",
        "    self.FA3 = FA3\n",
        "    self.FTM = FTM\n",
        "    self.FTA = FTA\n",
        "    self.REB = REB\n",
        "    self.AST = AST\n",
        "    self.STL = STL\n",
        "    self.BLK = BLK\n",
        "    self.OREB = OREB\n",
        "    self.TO = TO\n",
        "    self.PF = PF\n",
        "  def addWinRate(self, Win, Loss):\n",
        "    self.Win = Win\n",
        "    self.Loss = Loss\n",
        "    self.WinRate = Win/(Win+Loss)\n",
        "  def notEmpty(self):\n",
        "    return MIN>0\n",
        "\n",
        "class aGame:\n",
        "  def __init__(self, GameDay, GameID, TeamID, Team, OpponentID, Opponent, Location,\n",
        "       Division, Conference, Playoffs, WinOrLoss, PlayerType):\n",
        "    self.GameID = int(GameID)\n",
        "    self.TeamID = int(TeamID)\n",
        "    gdL = GameDay.split(\"-\")\n",
        "    self.GameDay = datetime.datetime(int(gdL[0]), int(gdL[1]), int(gdL[2]))\n",
        "    #self.GameTime = GameTime\n",
        "    self.DayCount = (self.GameDay - seasonBegin).days\n",
        "    self.Team = Team\n",
        "    self.OpponentID = int(OpponentID)\n",
        "    self.Opponent = Opponent\n",
        "    self.Home = Location == 'H'\n",
        "    self.Division = Division\n",
        "    self.Conference = Conference\n",
        "    self.Playoffs = Playoffs == 'Y'\n",
        "    self.WinOrLoss = WinOrLoss == 'W'\n",
        "    self.WinID = int(self.WinOrLoss)\n",
        "    self.LossID = int(not self.WinOrLoss)\n",
        "    self.PlayerType = PlayerType\n",
        "    self.TStats = Stats()\n",
        "    self.OppStats = Stats()\n",
        "    self.TStatsP = Stats()\n",
        "    self.OppStatsP = Stats()\n",
        "  def printDay(self):\n",
        "    print('Day', self.DayCount)\n",
        "\n",
        "def aLinetoGame(aline):\n",
        "  newG = aGame(aline[0], aline[1], aline[2], aline[3], aline[4], aline[5], aline[6],\n",
        "               aline[7], aline[8], aline[9], aline[10], aline[11])\n",
        "  for n in range(12, 27):\n",
        "    aline[n] = int(aline[n])\n",
        "\n",
        "  newG.TStats.update(aline[12], aline[13], aline[14], aline[15], aline[16], aline[17], \n",
        "                     aline[18], aline[19], aline[20], aline[21], aline[22], aline[23], \n",
        "                     aline[24], aline[25], aline[26])\n",
        "  return newG\n",
        "\n",
        "def readLines(filename):\n",
        "  with open(filename, newline='') as f:\n",
        "      reader = csv.reader(f)\n",
        "      next(reader)\n",
        "      rawDataL = list(reader)\n",
        "  #print(rawDataL)\n",
        "  #'ID', 'GameDay', 'GameTime', 'Home', 'HomeID', 'Visitor', 'VisitorID', 'ScoreVis', \n",
        "  #'ScoreHome', 'GameStatus', 'Venue', 'CityState', 'Neutral', 'Division', 'Conference', 'Playoffs'\n",
        "  #print(\"RawDataLength \",len(rawDataL))\n",
        "  data = []\n",
        "  for oneLine in rawDataL:\n",
        "    g = aLinetoGame(oneLine)\n",
        "    data.append(g)\n",
        "  return data"
      ],
      "execution_count": 59,
      "outputs": []
    },
    {
      "cell_type": "code",
      "metadata": {
        "colab": {
          "base_uri": "https://localhost:8080/"
        },
        "id": "LyV2ti1D1GEq",
        "outputId": "78ebdb60-67c3-4bbf-c351-bb4bcc672dbd"
      },
      "source": [
        "from copy import deepcopy\n",
        "allData = readLines(filename)\n",
        "print(allData[1])\n",
        "print(len(allData))\n",
        "\n",
        "for tg in allData:\n",
        "  previousGamesList = list(filter(lambda g: (g.DayCount < tg.DayCount) and (g.TeamID == tg.TeamID), allData))\n",
        "  pMIN = 0\n",
        "  pPTS = 0\n",
        "  pFGM = 0\n",
        "  pFGA = 0\n",
        "  pFM3 = 0\n",
        "  pFA3 = 0\n",
        "  pFTM = 0\n",
        "  pFTA = 0\n",
        "  pREB = 0\n",
        "  pAST = 0\n",
        "  pSTL = 0\n",
        "  pBLK = 0\n",
        "  pOREB = 0\n",
        "  pTO = 0\n",
        "  pPF = 0\n",
        "  pWin = 0\n",
        "  pLoss = 0\n",
        "  for p in previousGamesList:\n",
        "    g = p.TStats\n",
        "    pMIN += g.MIN\n",
        "    pPTS += g.PTS\n",
        "    pFGM += g.FGM\n",
        "    pFGA += g.FGA\n",
        "    pFM3 += g.FM3\n",
        "    pFA3 += g.FA3\n",
        "    pFTM += g.FTM\n",
        "    pFTA += g.FTA\n",
        "    pREB += g.REB\n",
        "    pAST += g.AST\n",
        "    pSTL += g.STL\n",
        "    pBLK += g.BLK\n",
        "    pOREB += g.OREB\n",
        "    pTO += g.TO\n",
        "    pPF += g.PF\n",
        "    pWin += p.WinID\n",
        "    pLoss += p.LossID\n",
        "  gPlayed = len(previousGamesList)\n",
        "  if gPlayed > 0:\n",
        "    tg.TStatsP.update(pMIN/gPlayed, pPTS/gPlayed, pFGM/gPlayed, pFGA/gPlayed, pFM3/gPlayed,\n",
        "                      pFA3/gPlayed, pFTM/gPlayed, pFTA/gPlayed, pREB/gPlayed, pAST/gPlayed,\n",
        "                      pSTL/gPlayed, pBLK/gPlayed, pOREB/gPlayed, pTO/gPlayed, pPF/gPlayed)\n",
        "    tg.TStatsP.addWinRate(pWin, pLoss)\n",
        "  else:\n",
        "    tg.TStatsP.update(234, 100, 44, 90, 10,\n",
        "                      30, 20, 25, 45, 25,\n",
        "                      7, 7, 11, 15, 22)\n",
        "    tg.TStatsP.addWinRate(1, 1)\n",
        "    #Random for the first game\n",
        "allGames = []\n",
        "for d in allData:\n",
        "  sameGameList = list(filter(lambda g: g.GameID == d.GameID, allGames))\n",
        "  if len(sameGameList) > 0:\n",
        "    for g in sameGameList:\n",
        "      if g.Home: \n",
        "        g.OppStats = deepcopy(d.TStats)\n",
        "        g.OppStatsP = deepcopy(d.TStatsP)\n",
        "      else:\n",
        "        d.OppStats = deepcopy(g.TStats)\n",
        "        d.OppStatsP = deepcopy(g.TStatsP)\n",
        "        allGames.remove(g)\n",
        "        allGames.append(d)\n",
        "  else:\n",
        "    allGames.append(d)\n",
        "allData = allGames\n",
        "print(len(allData))"
      ],
      "execution_count": 60,
      "outputs": [
        {
          "output_type": "stream",
          "name": "stdout",
          "text": [
            "<__main__.aGame object at 0x7f4aab6dc490>\n",
            "2628\n",
            "1314\n"
          ]
        }
      ]
    },
    {
      "cell_type": "code",
      "metadata": {
        "id": "Sots0PriUFq5",
        "colab": {
          "base_uri": "https://localhost:8080/"
        },
        "outputId": "4f058eb0-1e47-4344-d3ac-758c346d3349"
      },
      "source": [
        "import random\n",
        "\n",
        "afterN = 120\n",
        "testDaysN = 18\n",
        "allData = list(filter(lambda g:not g.Playoffs, allData))\n",
        "nData = len(allData)\n",
        "test_daysAfterN = list(filter(lambda g: g.DayCount >= afterN, allData))\n",
        "test_daysAfterN = list(map(lambda g: g.DayCount, test_daysAfterN))\n",
        "test_days = random.sample(test_daysAfterN, testDaysN)\n",
        "test_days.sort()\n",
        "test_list = list(filter(lambda g: g.DayCount in test_days, allData))\n",
        "\n",
        "test_listGroups = []\n",
        "for  d in test_days:\n",
        "  oneGroup = []\n",
        "  for g in allData:\n",
        "    if g.DayCount == d:\n",
        "      oneGroup.append(g)\n",
        "  test_listGroups.append(oneGroup)\n",
        "\n",
        "print(len(allData))\n",
        "print(len(test_list))\n",
        "print(len(test_listGroups))\n",
        "test_list = sorted(test_list, key= lambda g: g.DayCount)\n",
        "train_listGroups = []\n",
        "for d in test_days:\n",
        "  gs = list(filter(lambda g: d - g.DayCount > 0, allData))\n",
        "  train_listGroups.append(gs)\n",
        "print(len(train_listGroups))"
      ],
      "execution_count": 61,
      "outputs": [
        {
          "output_type": "stream",
          "name": "stdout",
          "text": [
            "1229\n",
            "129\n",
            "18\n",
            "18\n"
          ]
        }
      ]
    },
    {
      "cell_type": "code",
      "metadata": {
        "colab": {
          "base_uri": "https://localhost:8080/"
        },
        "id": "6gUbST_XHhzI",
        "outputId": "8eb11ce9-0e05-407d-c6cc-0284cfc08267"
      },
      "source": [
        "homeWinSum0 = list(filter(lambda g: g.WinOrLoss, allData))\n",
        "allW = len(homeWinSum0)/len(allData)\n",
        "print(len(homeWinSum0)/len(allData))"
      ],
      "execution_count": 62,
      "outputs": [
        {
          "output_type": "stream",
          "name": "stdout",
          "text": [
            "0.611879576891782\n"
          ]
        }
      ]
    },
    {
      "cell_type": "code",
      "source": [
        "def writeIn(newRecord):\n",
        "  p1Name='/content/gdrive/My Drive/2021 Fall/Thesis I/Records/home.txt'\n",
        "  p1file=open(p1Name)\n",
        "  p1file_content = p1file.read()\n",
        "  p1file=open(p1Name,\"w\")\n",
        "  p1file.write(p1file_content)\n",
        "  p1file.write(str(y)+\" \"+ str(newRecord) + \"\\n\")\n",
        "  p1file.write(\"-\\n\")\n",
        "  p1file=open(p1Name)\n",
        "  p1file_content = p1file.read()\n",
        "  #print(p1file_content)\n",
        "  p1file.close()"
      ],
      "metadata": {
        "id": "Z1w7Tjl1zasw"
      },
      "execution_count": 63,
      "outputs": []
    },
    {
      "cell_type": "code",
      "source": [
        "writeIn(allW)"
      ],
      "metadata": {
        "id": "xJ3KpjJV11EH"
      },
      "execution_count": 64,
      "outputs": []
    }
  ]
}