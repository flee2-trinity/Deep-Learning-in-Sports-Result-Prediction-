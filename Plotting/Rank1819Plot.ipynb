{
  "nbformat": 4,
  "nbformat_minor": 0,
  "metadata": {
    "colab": {
      "name": "Rank2_20Plot.ipynb",
      "provenance": [],
      "collapsed_sections": [],
      "authorship_tag": "ABX9TyPsjBhJSx/eg1Q+BEKDq9Gx",
      "include_colab_link": true
    },
    "kernelspec": {
      "name": "python3",
      "display_name": "Python 3"
    },
    "language_info": {
      "name": "python"
    }
  },
  "cells": [
    {
      "cell_type": "markdown",
      "metadata": {
        "id": "view-in-github",
        "colab_type": "text"
      },
      "source": [
        "<a href=\"https://colab.research.google.com/github/flee2-trinity/Deep-Learning-in-Sports-Result-Prediction-/blob/main/Rank2_20Plot.ipynb\" target=\"_parent\"><img src=\"https://colab.research.google.com/assets/colab-badge.svg\" alt=\"Open In Colab\"/></a>"
      ]
    },
    {
      "cell_type": "code",
      "metadata": {
        "colab": {
          "base_uri": "https://localhost:8080/"
        },
        "id": "8dvberQjLOnF",
        "outputId": "17073f9d-7229-46ed-8bb8-33fe938fe323"
      },
      "source": [
        "from google.colab import drive\n",
        "\n",
        "drive.mount('/content/gdrive')\n",
        "DATA_PATH = '/content/gdrive/My Drive/2021 Fall/Thesis I'"
      ],
      "execution_count": null,
      "outputs": [
        {
          "output_type": "stream",
          "name": "stdout",
          "text": [
            "Mounted at /content/gdrive\n"
          ]
        }
      ]
    },
    {
      "cell_type": "code",
      "metadata": {
        "id": "9wApZoPcLcW5"
      },
      "source": [
        "import csv\n",
        "filename = '/content/gdrive/My Drive/2021 Fall/Thesis I/Records/Rank2_20.txt'\n",
        "with open(filename, newline='') as f:\n",
        "  reader = csv.reader(f)\n",
        "  p1content = list(reader)"
      ],
      "execution_count": null,
      "outputs": []
    },
    {
      "cell_type": "code",
      "source": [
        "xList = [i for i in range(163)]\n",
        "y1List = [[]for i in range(163)]\n",
        "y2List = [[]for i in range(163)]"
      ],
      "metadata": {
        "id": "ogRrUcI5GSTW"
      },
      "execution_count": null,
      "outputs": []
    },
    {
      "cell_type": "code",
      "source": [
        "\n",
        "for t in range(len(p1content)):\n",
        "  s = p1content[t][0].split()\n",
        "  if s[0] != '-' :\n",
        "    i = int(s[0])\n",
        "    y1List[i].append(float(s[1]))\n",
        "    y2List[i].append(float(s[2]))"
      ],
      "metadata": {
        "id": "QiNFSMHF9nZn"
      },
      "execution_count": null,
      "outputs": []
    },
    {
      "cell_type": "code",
      "source": [
        "from statistics import mean\n",
        "y1ListM = list(map(lambda d: mean(d), y1List))\n",
        "y2ListM = list(map(lambda d: mean(d), y2List))\n"
      ],
      "metadata": {
        "id": "1KubI7VuHvh3"
      },
      "execution_count": null,
      "outputs": []
    },
    {
      "cell_type": "code",
      "source": [
        "filename0 = '/content/gdrive/My Drive/2021 Fall/Thesis I/Records/Rank2_15.txt'\n",
        "with open(filename0, newline='') as f:\n",
        "  reader = csv.reader(f)\n",
        "  p0content = list(reader)\n",
        "y1List0 = [[]for i in range(163)]\n",
        "y2List0 = [[]for i in range(163)]\n",
        "for t in range(len(p0content)):\n",
        "  s = p0content[t][0].split()\n",
        "  if s[0] != '-' :\n",
        "    #print(t % 164)\n",
        "    i = int(s[0])\n",
        "    y1List0[i].append(float(s[1]))\n",
        "    y2List0[i].append(float(s[2]))\n",
        "y1ListM0 = list(map(lambda d: mean(d), y1List0))\n",
        "y2ListM0 = list(map(lambda d: mean(d), y2List0))\n"
      ],
      "metadata": {
        "id": "fsaJ41uZwBDG"
      },
      "execution_count": null,
      "outputs": []
    },
    {
      "cell_type": "code",
      "metadata": {
        "colab": {
          "base_uri": "https://localhost:8080/",
          "height": 265
        },
        "id": "lWrudjYMaHyb",
        "outputId": "49602445-8e02-401e-b54a-f0237c8ffde3"
      },
      "source": [
        "import matplotlib.pyplot as plt\n",
        "import numpy as np\n",
        "plt.plot(xList, y1ListM, label = \"Power Ranking WR\")\n",
        "plt.plot(xList, y2ListM, label = \"WinRate Ranking WR\")\n",
        "plt.plot(xList, y1ListM0, label = \"Power Ranking\")\n",
        "plt.plot(xList, y2ListM0, label = \"WinRate Ranking\")\n",
        "plt.legend()\n",
        "plt.show()"
      ],
      "execution_count": null,
      "outputs": [
        {
          "output_type": "display_data",
          "data": {
            "image/png": "[encoded data removed]",
            "text/plain": [
              "<Figure size 432x288 with 1 Axes>"
            ]
          },
          "metadata": {
            "needs_background": "light"
          }
        }
      ]
    },
    {
      "cell_type": "code",
      "metadata": {
        "id": "q8MJHE7TOBIl",
        "outputId": "68e448ea-5f06-44bc-e87b-c7de6c013633",
        "colab": {
          "base_uri": "https://localhost:8080/"
        }
      },
      "source": [
        "from scipy import stats\n",
        "\n",
        "all_points = stats.ttest_ind(y1ListM, y2ListM)\n",
        "print(all_points)"
      ],
      "execution_count": null,
      "outputs": [
        {
          "output_type": "stream",
          "name": "stdout",
          "text": [
            "Ttest_indResult(statistic=-2.818564509727399, pvalue=0.005120458935665017)\n"
          ]
        }
      ]
    }
  ]
}
