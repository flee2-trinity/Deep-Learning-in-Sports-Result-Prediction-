{
  "nbformat": 4,
  "nbformat_minor": 0,
  "metadata": {
    "colab": {
      "name": "PBP1819GIDPlot.ipynb",
      "provenance": [],
      "collapsed_sections": [],
      "authorship_tag": "ABX9TyNH2Nlqia3MsjBCS2Hm1ZCy",
      "include_colab_link": true
    },
    "kernelspec": {
      "name": "python3",
      "display_name": "Python 3"
    },
    "language_info": {
      "name": "python"
    }
  },
  "cells": [
    {
      "cell_type": "markdown",
      "metadata": {
        "id": "view-in-github",
        "colab_type": "text"
      },
      "source": [
        "<a href=\"https://colab.research.google.com/github/flee2-trinity/Deep-Learning-in-Sports-Result-Prediction-/blob/main/PBP1819GIDPlot.ipynb\" target=\"_parent\"><img src=\"https://colab.research.google.com/assets/colab-badge.svg\" alt=\"Open In Colab\"/></a>"
      ]
    },
    {
      "cell_type": "code",
      "metadata": {
        "colab": {
          "base_uri": "https://localhost:8080/"
        },
        "id": "8dvberQjLOnF",
        "outputId": "8fc110bc-ba3d-49da-e77e-b1f7ef2ebe62"
      },
      "source": [
        "from google.colab import drive\n",
        "\n",
        "drive.mount('/content/gdrive')\n",
        "DATA_PATH = '/content/gdrive/My Drive/2021 Fall/Thesis I'"
      ],
      "execution_count": null,
      "outputs": [
        {
          "output_type": "stream",
          "name": "stdout",
          "text": [
            "Drive already mounted at /content/gdrive; to attempt to forcibly remount, call drive.mount(\"/content/gdrive\", force_remount=True).\n"
          ]
        }
      ]
    },
    {
      "cell_type": "code",
      "metadata": {
        "id": "9wApZoPcLcW5"
      },
      "source": [
        "import csv\n",
        "filename = '/content/gdrive/My Drive/2021 Fall/Thesis I/Records/PBP1819GID.txt'\n",
        "with open(filename, newline='') as f:\n",
        "  reader = csv.reader(f)\n",
        "  p1content = list(reader)"
      ],
      "execution_count": null,
      "outputs": []
    },
    {
      "cell_type": "code",
      "source": [
        "from collections import defaultdict\n",
        "groups = defaultdict(list)\n",
        "\"\"\"\n",
        "for o in allData:\n",
        "    groups[o.GameID].append(o)\n",
        "\n",
        "gList = list(groups.values())\n",
        "\"\"\""
      ],
      "metadata": {
        "colab": {
          "base_uri": "https://localhost:8080/",
          "height": 35
        },
        "id": "hzUrkjPmYy8k",
        "outputId": "153553c5-71de-48e2-f61e-3c43710da84b"
      },
      "execution_count": null,
      "outputs": [
        {
          "output_type": "execute_result",
          "data": {
            "text/plain": [
              "'\\nfor o in allData:\\n    groups[o.GameID].append(o)\\n\\ngList = list(groups.values())\\n'"
            ],
            "application/vnd.google.colaboratory.intrinsic+json": {
              "type": "string"
            }
          },
          "metadata": {},
          "execution_count": 38
        }
      ]
    },
    {
      "cell_type": "code",
      "source": [
        "print(len(p1content))\n",
        "print(p1content[200:300])\n",
        "for t in range(len(p1content)):\n",
        "  s = p1content[t][0].split()\n",
        "  if len(s) >= 4 :\n",
        "    #print(t)\n",
        "    #(str(label)+\" \"+ str(period) + \" \" + str(tm)+ \" \" + str(abs(diff))+  \" \" + str(gID)+ \" \" + str(dayC) + \"\\n\")\n",
        "    if int(s[1])> 0:\n",
        "      groups[int(s[4])].append((float(s[0]), int(s[1]), int(s[2]), float(s[3]), int(s[5])))\n",
        "gList = list(groups.values())"
      ],
      "metadata": {
        "id": "QiNFSMHF9nZn",
        "colab": {
          "base_uri": "https://localhost:8080/"
        },
        "outputId": "bb5d0ae2-d3b4-4c8f-edb3-f436e690c7ed"
      },
      "execution_count": null,
      "outputs": [
        {
          "output_type": "stream",
          "name": "stdout",
          "text": [
            "119643\n",
            "[['1 3 527 8 984155 120'], ['1 3 526 8 984155 120'], ['1 3 512 8 984155 120'], ['1 3 512 8 984155 120'], ['1 3 512 8 984155 120'], ['1 3 512 7 984155 120'], ['1 3 500 9 984155 120'], ['1 3 483 9 984155 120'], ['1 3 482 9 984155 120'], ['1 3 470 9 984155 120'], ['1 3 464 9 984155 120'], ['1 3 462 9 984155 120'], ['1 3 457 9 984155 120'], ['1 3 455 9 984155 120'], ['1 3 447 11 984155 120'], ['1 3 447 11 984155 120'], ['1 3 447 11 984155 120'], ['1 3 447 11 984155 120'], ['1 3 435 11 984155 120'], ['1 3 432 11 984155 120'], ['1 3 432 11 984155 120'], ['1 3 419 11 984155 120'], ['1 3 417 11 984155 120'], ['1 3 407 14 984155 120'], ['1 3 400 14 984155 120'], ['1 3 400 14 984155 120'], ['1 3 400 14 984155 120'], ['1 3 380 14 984155 120'], ['1 3 378 14 984155 120'], ['1 3 375 14 984155 120'], ['1 3 373 14 984155 120'], ['1 3 369 14 984155 120'], ['1 3 366 14 984155 120'], ['1 3 361 14 984155 120'], ['1 3 361 13 984155 120'], ['1 3 361 12 984155 120'], ['1 3 347 12 984155 120'], ['1 3 336 12 984155 120'], ['1 3 334 12 984155 120'], ['1 3 333 12 984155 120'], ['1 3 332 12 984155 120'], ['1 3 325 12 984155 120'], ['1 3 325 12 984155 120'], ['1 3 316 12 984155 120'], ['1 3 313 12 984155 120'], ['1 3 312 12 984155 120'], ['1 3 312 12 984155 120'], ['1 3 312 11 984155 120'], ['1 3 312 12 984155 120'], ['1 3 312 12 984155 120'], ['1 3 312 13 984155 120'], ['1 3 293 13 984155 120'], ['1 3 293 13 984155 120'], ['1 3 293 12 984155 120'], ['1 3 284 12 984155 120'], ['1 3 278 12 984155 120'], ['1 3 273 12 984155 120'], ['1 3 273 11 984155 120'], ['1 3 273 10 984155 120'], ['1 3 260 10 984155 120'], ['1 3 253 10 984155 120'], ['1 3 251 10 984155 120'], ['1 3 251 10 984155 120'], ['1 3 251 10 984155 120'], ['1 3 237 13 984155 120'], ['1 3 216 11 984155 120'], ['1 3 198 11 984155 120'], ['1 3 192 9 984155 120'], ['1 3 180 11 984155 120'], ['1 3 168 11 984155 120'], ['1 3 166 11 984155 120'], ['1 3 152 14 984155 120'], ['1 3 137 14 984155 120'], ['1 3 133 14 984155 120'], ['1 3 123 17 984155 120'], ['1 3 107 17 984155 120'], ['1 3 107 17 984155 120'], ['1 3 107 17 984155 120'], ['1 3 106 17 984155 120'], ['1 3 106 18 984155 120'], ['1 3 106 18 984155 120'], ['1 3 105 18 984155 120'], ['1 3 83 18 984155 120'], ['1 3 83 17 984155 120'], ['1 3 83 17 984155 120'], ['1 3 82 17 984155 120'], ['1 3 64 17 984155 120'], ['1 3 62 17 984155 120'], ['1 3 62 17 984155 120'], ['1 3 62 17 984155 120'], ['1 3 49 17 984155 120'], ['1 3 44 17 984155 120'], ['1 3 44 17 984155 120'], ['1 3 44 17 984155 120'], ['1 3 37 20 984155 120'], ['1 3 24 17 984155 120'], ['1 3 4 17 984155 120'], ['1 3 2 17 984155 120'], ['1 3 2 19 984155 120'], ['1 3 0 19 984155 120']]\n"
          ]
        }
      ]
    },
    {
      "cell_type": "code",
      "source": [
        "xList = [i for i in range(1, 97)]\n",
        "print(len(gList))\n",
        "newL1 = []\n",
        "newL2 = []\n",
        "for gl in gList:\n",
        "  y1List = [[]for i in range(97)]\n",
        "  y2List = [[]for i in range(97)]\n",
        "  for g in gl:\n",
        "\n",
        "    t = int((int(g[1])-1)*24 + (720-int(g[2]))/30)\n",
        "    y1List[t].append(g[0])\n",
        "    y2List[t].append(g[3])\n",
        "    \n",
        "  newL1.append(y1List)\n",
        "  newL2.append(y2List)"
      ],
      "metadata": {
        "colab": {
          "base_uri": "https://localhost:8080/"
        },
        "id": "sPwKCf99iDN7",
        "outputId": "6ae0ce18-6ab9-4229-9fc4-d89db9866e46"
      },
      "execution_count": null,
      "outputs": [
        {
          "output_type": "stream",
          "name": "stdout",
          "text": [
            "244\n"
          ]
        }
      ]
    },
    {
      "cell_type": "code",
      "source": [
        "from statistics import mean\n",
        "meany1 = []\n",
        "meany2 = []\n",
        "for yL in newL1:\n",
        "  tempL = list(map(lambda x: mean(x) if len(x) > 0 else -1, yL[:96]))\n",
        "  meany1.append(tempL)\n",
        "for yL in newL2:\n",
        "  tempL = list(map(lambda x: mean(x) if len(x) > 0 else -1, yL[:96]))\n",
        "  meany2.append(tempL)\n",
        "y1ListM = []\n",
        "y2ListM = []\n",
        "e = 0\n",
        "for i in range(96):\n",
        "  q = 0.0\n",
        "  total = 0.0\n",
        "  for x in meany1:\n",
        "    if x[i] >= 0:\n",
        "      q += 1\n",
        "      total += x[i]\n",
        "    else:\n",
        "      e += 1\n",
        "  y1ListM.append(total/q)\n",
        "for i in range(96):\n",
        "  q = 0.0\n",
        "  total = 0.0\n",
        "  for x in meany2:\n",
        "    if x[i] >= 0:\n",
        "      q += 1\n",
        "      total += x[i]\n",
        "  y2ListM.append(total/q)\n",
        "    \n",
        "print(e)\n",
        "print(y1ListM)"
      ],
      "metadata": {
        "id": "1KubI7VuHvh3",
        "colab": {
          "base_uri": "https://localhost:8080/"
        },
        "outputId": "2bb8eff2-b669-4647-98bd-6c75ba9440f1"
      },
      "execution_count": null,
      "outputs": [
        {
          "output_type": "stream",
          "name": "stdout",
          "text": [
            "25\n",
            "[0.6202625906329611, 0.6210382513661203, 0.6149248633879782, 0.623360655737705, 0.6198770491803278, 0.6256733021077282, 0.6165300546448086, 0.6164728372720177, 0.6180230288836844, 0.6170765027322406, 0.6201356362217018, 0.617286299765808, 0.621570644718793, 0.6237314597970335, 0.6318309764006484, 0.632168878480354, 0.6261612021857923, 0.6214919984387198, 0.6273195952499232, 0.6350214676034349, 0.6257318501170961, 0.6252990975327041, 0.6313638433515483, 0.6331275720164609, 0.6369535519125683, 0.6417837626854019, 0.6383245511319281, 0.6405460109163813, 0.6419398907103825, 0.6356947697111631, 0.6450429352068696, 0.6395926477893691, 0.6360753317720531, 0.6299326697892271, 0.6425721797635378, 0.6438776671870934, 0.6472415903768363, 0.6439508521988031, 0.6496096799375487, 0.6458918813427009, 0.6499254843517139, 0.6468335619570187, 0.6372495446265938, 0.6453551912568306, 0.640564738292011, 0.6343579234972677, 0.6468969555035128, 0.6517930327868853, 0.6525377229080933, 0.6548497267759563, 0.6559084699453551, 0.6591042154566745, 0.6621105232216344, 0.6621779859484777, 0.6648540074466, 0.6595238095238095, 0.6593522313296905, 0.671477562218303, 0.6658128415300547, 0.6713635180848295, 0.6791325136612021, 0.6788065843621399, 0.6757201646090535, 0.6764795218498921, 0.6830421456958341, 0.6837318589880065, 0.6815272898776996, 0.6835528883684623, 0.6853662503252667, 0.6934426229508196, 0.6988387978142078, 0.6996942492844133, 0.6980027548209368, 0.6986773472429209, 0.6936899862825788, 0.6889002732240438, 0.6898224043715847, 0.6899053473848555, 0.6865380236794172, 0.6962870804059329, 0.6945592286501377, 0.6981481481481482, 0.7043927270361696, 0.7031048186785892, 0.6986338797814208, 0.7078405542544887, 0.7047357763407146, 0.7066072245084591, 0.7043293000260215, 0.7051619828259172, 0.6988830099941211, 0.7010294691647151, 0.7104849726775956, 0.7068793911007025, 0.7067439050021017, 0.7050123501003444]\n"
          ]
        }
      ]
    },
    {
      "cell_type": "code",
      "metadata": {
        "id": "lWrudjYMaHyb",
        "colab": {
          "base_uri": "https://localhost:8080/",
          "height": 265
        },
        "outputId": "5dfc442e-90e0-49df-9d82-3070c9679c1b"
      },
      "source": [
        "import matplotlib.pyplot as plt\n",
        "import numpy as np\n",
        "fig, ax_left = plt.subplots()\n",
        "ax_right = ax_left.twinx()\n",
        "ax_left.plot(xList, y1ListM, label = \"Accuracy\", color='green')\n",
        "ax_right.plot(xList, y2ListM, label = \"Diff\", color='blue')\n",
        "plt.legend()\n",
        "plt.show()"
      ],
      "execution_count": null,
      "outputs": [
        {
          "output_type": "display_data",
          "data": {
            "text/plain": [
              "<Figure size 432x288 with 2 Axes>"
            ],
            "image/png": "[encoded data removed]"
          },
          "metadata": {
            "needs_background": "light"
          }
        }
      ]
    }
  ]
}
