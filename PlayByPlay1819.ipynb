{
  "cells": [
    {
      "cell_type": "markdown",
      "metadata": {
        "id": "view-in-github",
        "colab_type": "text"
      },
      "source": [
        "<a href=\"https://colab.research.google.com/github/flee2-trinity/Deep-Learning-in-Sports-Result-Prediction-/blob/main/PlayByPlay1819.ipynb\" target=\"_parent\"><img src=\"https://colab.research.google.com/assets/colab-badge.svg\" alt=\"Open In Colab\"/></a>"
      ]
    },
    {
      "cell_type": "code",
      "execution_count": null,
      "metadata": {
        "colab": {
          "base_uri": "https://localhost:8080/"
        },
        "id": "iZZludjcgaCQ",
        "outputId": "9967574c-85d2-4362-c485-d46697eb9679"
      },
      "outputs": [
        {
          "name": "stdout",
          "output_type": "stream",
          "text": [
            "Mounted at /content/gdrive\n"
          ]
        }
      ],
      "source": [
        "from google.colab import drive\n",
        "\n",
        "drive.mount('/content/gdrive')\n",
        "DATA_PATH = '/content/gdrive/My Drive/2021 Fall/Thesis I'"
      ]
    },
    {
      "cell_type": "code",
      "execution_count": null,
      "metadata": {
        "id": "cskJZ0fniDkV"
      },
      "outputs": [],
      "source": [
        "import torch\n",
        "import torch.nn as nn\n",
        "import torch.nn.functional as F\n",
        "import torchvision\n",
        "import torchvision.transforms as transforms\n",
        "\n",
        "from __future__ import unicode_literals, print_function, division\n",
        "from io import open\n",
        "import glob\n",
        "import os\n",
        "import datetime\n",
        "\n",
        "def findFiles(path): \n",
        "  return glob.glob(path)"
      ]
    },
    {
      "cell_type": "code",
      "execution_count": null,
      "metadata": {
        "colab": {
          "base_uri": "https://localhost:8080/"
        },
        "id": "xuBqgIK-iLQE",
        "outputId": "0557f32a-de29-475b-eb1d-aed76c0bb2f9"
      },
      "outputs": [
        {
          "name": "stdout",
          "output_type": "stream",
          "text": [
            "['2018-10-16', '985248', '1-1760', '1', '12:00', 'Philadelphia 76ers', '28', '0', 'Boston Celtics', '5', '0', 'Philadelphia 76ers', '28', 'PHI', '5', 'Boston Celtics', '0', '0', 'Jump Ball: Joel Embiid vs. Al Horford -- Ben Simmons gains possession', '', '0', '0', 'JUMP', '', '']\n"
          ]
        }
      ],
      "source": [
        "import csv\n",
        "\n",
        "filename = '/content/gdrive/My Drive/2021 Fall/Thesis I/NBA Data/nba 18-19/NatStat-NBA2019-Play-by-Play.csv'\n",
        "with open(filename, newline='') as f:\n",
        "      reader = csv.reader(f)\n",
        "      #print(list(reader)[0])\n",
        "      \"\"\"\n",
        "      ['GameDay', 'GameID', 'Sort', 'Period', 'Time', 'Visitor', \n",
        "      'VisitorID', 'ScoreVis', 'Home', 'HomeID', 'ScoreHome', \n",
        "      'Team', 'TeamID', 'TeamAbbrev', 'OppID', 'Opp', 'Diff', \n",
        "      'PlayerID', 'Description', 'ScoringPlay', 'Points', \n",
        "      'Distance', 'Tags', 'FieldHome', 'FieldVis']\n",
        "      \"\"\"\n",
        "      next(reader)\n",
        "      rawDataL = list(reader)\n",
        "      \"\"\"\n",
        "      ['2018-10-16', '985248', '1-1760', '1', '12:00', 'Philadelphia 76ers', \n",
        "      '28', '0', 'Boston Celtics', '5', '0', 'Philadelphia 76ers', '28', 'PHI', \n",
        "      '5', 'Boston Celtics', '0', '0', \n",
        "      'Jump Ball: Joel Embiid vs. Al Horford -- Ben Simmons gains possession', \n",
        "      '', '0', '0', 'JUMP', '', '']\n",
        "      \"\"\"\n",
        "print(rawDataL[0])"
      ]
    },
    {
      "cell_type": "code",
      "execution_count": null,
      "metadata": {
        "colab": {
          "base_uri": "https://localhost:8080/"
        },
        "id": "aVtbHmamTi7i",
        "outputId": "4fd87097-a354-4edc-cb28-48447dfc45e3"
      },
      "outputs": [
        {
          "name": "stdout",
          "output_type": "stream",
          "text": [
            "['2018-10-16', '985248', '1-1760', '1', '12:00', 'Philadelphia 76ers', '28', '0', 'Boston Celtics', '5', '0', 'Philadelphia 76ers', '28', 'PHI', '5', 'Boston Celtics', '0', '0', 'Jump Ball: Joel Embiid vs. Al Horford -- Ben Simmons gains possession', '', '0', '0', 'JUMP', '', '']\n",
            "['2018-10-16', '985248', '1-1820', '1', '11:40', 'Philadelphia 76ers', '28', '0', 'Boston Celtics', '5', '0', 'Philadelphia 76ers', '28', 'PHI', '5', 'Boston Celtics', '0', '0', 'Robert Covington misses a 3-point jump shot from 28 feet out', '', '0', '28', '3FA', '', '']\n",
            "['2018-10-16', '985248', '1-1820', '1', '11:40', 'Philadelphia 76ers', '28', '0', 'Boston Celtics', '5', '0', 'Boston Celtics', '5', 'BOS', '28', 'Philadelphia 76ers', '0', '0', 'Celtics defensive rebound', '', '0', '0', 'REB|TRB', '', '']\n",
            "['2018-10-16', '985248', '1-1845', '1', '11:15', 'Philadelphia 76ers', '28', '0', 'Boston Celtics', '5', '0', 'Boston Celtics', '5', 'BOS', '28', 'Philadelphia 76ers', '0', '329820', 'Jayson Tatum misses a 3-point jump shot from 26 feet out', '', '0', '26', '3FA', '', '']\n",
            "['2018-10-16', '985248', '1-1847', '1', '11:13', 'Philadelphia 76ers', '28', '0', 'Boston Celtics', '5', '0', 'Philadelphia 76ers', '28', 'PHI', '5', 'Boston Celtics', '0', '0', 'Dario Saric defensive rebound', '', '0', '0', 'REB|TRB', '', '']\n"
          ]
        },
        {
          "data": {
            "application/vnd.google.colaboratory.intrinsic+json": {
              "type": "string"
            },
            "text/plain": [
              "\"\\n      ['GameDay', 'GameID', 'Sort', 'Period', 'Time', 'Visitor', \\n      'VisitorID', 'ScoreVis', 'Home', 'HomeID', 'ScoreHome', \\n      'Team', 'TeamID', 'TeamAbbrev', 'OppID', 'Opp', 'Diff', \\n      'PlayerID', 'Description', 'ScoringPlay', 'Points', \\n      'Distance', 'Tags', 'FieldHome', 'FieldVis']\\n      \""
            ]
          },
          "execution_count": 5,
          "metadata": {},
          "output_type": "execute_result"
        }
      ],
      "source": [
        "for i in range(5):\n",
        "  print(rawDataL[i])\n",
        "\"\"\"\n",
        "      ['GameDay', 'GameID', 'Sort', 'Period', 'Time', 'Visitor', \n",
        "      'VisitorID', 'ScoreVis', 'Home', 'HomeID', 'ScoreHome', \n",
        "      'Team', 'TeamID', 'TeamAbbrev', 'OppID', 'Opp', 'Diff', \n",
        "      'PlayerID', 'Description', 'ScoringPlay', 'Points', \n",
        "      'Distance', 'Tags', 'FieldHome', 'FieldVis']\n",
        "      \"\"\""
      ]
    },
    {
      "cell_type": "code",
      "execution_count": null,
      "metadata": {
        "id": "EzKadFmokcRM"
      },
      "outputs": [],
      "source": [
        "import datetime\n",
        "\n",
        "def readTime(ampm):\n",
        "  t = 0\n",
        "  tL = ampm.replace(' ',':').split(':')\n",
        "  t += int(tL[0])*60\n",
        "  t += int(tL[1])\n",
        "  return t\n",
        "\n",
        "seasonBegin = datetime.datetime(2018, 10, 16)\n",
        "playoffsBegin = datetime.datetime(2019, 4, 13)\n",
        "class Tags:\n",
        "  def __init__(self):\n",
        "    self.FA3 = False\n",
        "    self.FM3 = False\n",
        "    self.FGA = False\n",
        "    self.FGM = False\n",
        "    self.FTA = False\n",
        "    self.FTM = False\n",
        "    self.PF = False\n",
        "    self.TRB = False\n",
        "    self.ORB = False\n",
        "    self.REB = False\n",
        "    self.STL = False  \n",
        "    self.TO = False\n",
        "    self.JUMP = False\n",
        "    self.BLK = False\n",
        "    self.MISC = False\n",
        "    self.AST = False\n",
        "    self.SUB = False\n",
        "    self.TIMEOUT = False\n",
        "    self.Nothing = True\n",
        "def readTags(TagsLine):\n",
        "  tagC = Tags()\n",
        "  tSplitted = TagsLine.split(\"|\")\n",
        "  tagC.Nothing = False\n",
        "  for t in tSplitted:\n",
        "    if t == \"3FA\":\n",
        "      tagC.FA3 = True\n",
        "    elif t == \"3FM\":\n",
        "      tagC.FM3 = True\n",
        "    else:\n",
        "      setattr(tagC, t, True)\n",
        "  return tagC\n",
        "  \n",
        "class aPlay:\n",
        "  def __init__(self, GameDay, GameID, Sort, Period, Time, Visitor, \n",
        "      VisitorID, ScoreVis, Home, HomeID, ScoreHome, \n",
        "      Team, TeamID, TeamAbbrev, OppID, Opp, Diff, \n",
        "      PlayerID, Description, ScoringPlay, Points, \n",
        "      Distance, Tags, FieldHome, FieldVis):\n",
        "    \n",
        "    gdL = GameDay.split(\"-\")\n",
        "    self.GameDay = datetime.datetime(int(gdL[0]), int(gdL[1]), int(gdL[2]))\n",
        "    self.GameID = int(GameID)\n",
        "    self.Period = int(Period)\n",
        "    self.Time = readTime(Time)\n",
        "    self.Visitor = Visitor\n",
        "    self.VisitorID = int(VisitorID)\n",
        "    self.ScoreVis = int(ScoreVis)\n",
        "    self.Home = Home\n",
        "    self.HomeID = int(HomeID)\n",
        "    self.ScoreHome = int(ScoreHome)\n",
        "    self.Team = Team\n",
        "    self.TeamID = int(TeamID)\n",
        "    self.TeamAbbrev = TeamAbbrev\n",
        "    self.OppID = int(OppID)\n",
        "    self.Opp = Opp\n",
        "    self.Diff = int(Diff)\n",
        "    self.SDiff = self.ScoreHome - self.ScoreVis\n",
        "    self.PlayerID = int(PlayerID)\n",
        "    self.Description = Description\n",
        "    self.ScoringPlay = (ScoringPlay == 'Y')\n",
        "    self.Points = int(Points)\n",
        "    self.Distance = int(Distance)\n",
        "    self.TagsString = Tags\n",
        "    self.FieldHome = FieldHome #No Value\n",
        "    self.FieldVis = FieldVis #No Value\n",
        "    self.Tags = readTags(Tags)\n",
        "    if TeamID == HomeID:\n",
        "      self.SameTeamI = 1\n",
        "    else:\n",
        "      self.SameTeamI = -1\n",
        "    self.DayCount = (self.GameDay - seasonBegin).days\n",
        "    self.Playoffs = (self.GameDay >= playoffsBegin)\n",
        "    self.OT = int(self.Period == 0)\n",
        "  def addGResult(self, aG):\n",
        "    self.aGame = aG\n",
        "  def printDay(self):\n",
        "    print('Day', self.DayCount)\n",
        "\n",
        "\n",
        "class Stats:\n",
        "  def __init__(self):\n",
        "    \"\"\"\n",
        "    MIN, PTS,FGM, FGA, 3FM, 3FA, FTM, FTA, REB, AST, STL, BLK, OREB, TO, PF\n",
        "    \"\"\"\n",
        "    self.MIN = 0\n",
        "    self.PTS = 0\n",
        "    self.FGM = 0\n",
        "    self.FGA = 0\n",
        "    self.FM3 = 0\n",
        "    self.FA3 = 0\n",
        "    self.FTM = 0\n",
        "    self.FTA = 0\n",
        "    self.REB = 0\n",
        "    self.AST = 0\n",
        "    self.STL = 0\n",
        "    self.BLK = 0\n",
        "    self.OREB = 0\n",
        "    self.TO = 0\n",
        "    self.PF = 0\n",
        "    self.Win = 0\n",
        "    self.Loss = 0\n",
        "    self.WinRate = 0\n",
        "    self.WinBy = 0\n",
        "  def update(self, MIN, PTS,FGM, FGA, FM3, FA3, FTM, FTA, REB, AST, STL, BLK, OREB, TO, PF):\n",
        "    self.MIN = MIN\n",
        "    self.PTS = PTS\n",
        "    self.FGM = FGM\n",
        "    self.FGA = FGA\n",
        "    self.FM3 = FM3\n",
        "    self.FA3 = FA3\n",
        "    self.FTM = FTM\n",
        "    self.FTA = FTA\n",
        "    self.REB = REB\n",
        "    self.AST = AST\n",
        "    self.STL = STL\n",
        "    self.BLK = BLK\n",
        "    self.OREB = OREB\n",
        "    self.TO = TO\n",
        "    self.PF = PF\n",
        "  def addWinRate(self, Win, Loss):\n",
        "    self.Win = Win\n",
        "    self.Loss = Loss\n",
        "    self.WinRate = Win/(Win+Loss)\n",
        "  \n",
        "class aGame:\n",
        "  def __init__(self, GameDay, GameID, TeamID, Team, OpponentID, Opponent, Location,\n",
        "       Division, Conference, Playoffs, WinOrLoss, PlayerType):\n",
        "    self.GameID = int(GameID)\n",
        "    self.TeamID = int(TeamID)\n",
        "    gdL = GameDay.split(\"-\")\n",
        "    self.GameDay = datetime.datetime(int(gdL[0]), int(gdL[1]), int(gdL[2]))\n",
        "    #self.GameTime = GameTime\n",
        "    self.DayCount = (self.GameDay - seasonBegin).days\n",
        "    self.Team = Team\n",
        "    self.OpponentID = int(OpponentID)\n",
        "    self.Opponent = Opponent\n",
        "    self.Home = Location == 'H'\n",
        "    self.Division = Division\n",
        "    self.Conference = Conference\n",
        "    self.Playoffs = Playoffs == 'Y'\n",
        "    self.WinOrLoss = WinOrLoss == 'W'\n",
        "    self.WinID = int(self.WinOrLoss)\n",
        "    self.LossID = int(not self.WinOrLoss)\n",
        "    self.PlayerType = PlayerType\n",
        "    self.TStats = Stats()\n",
        "    self.OppStats = Stats()\n",
        "    self.TStatsP = Stats()\n",
        "    self.OppStatsP = Stats()\n"
      ]
    },
    {
      "cell_type": "code",
      "execution_count": null,
      "metadata": {
        "id": "aIw0rmrmm5BH"
      },
      "outputs": [],
      "source": [
        "def aLinetoAPlay(aline):\n",
        "  aP = aPlay(aline[0], aline[1], aline[2], aline[3], aline[4], aline[5], aline[6],\n",
        "               aline[7], aline[8], aline[9], aline[10], aline[11], aline[12], aline[13],\n",
        "               aline[14], aline[15], aline[16], aline[17], aline[18], aline[19], aline[20],\n",
        "               aline[21], aline[22], aline[23], aline[24])\n",
        "\n",
        "  return aP\n",
        "def aLinetoGame(aline):\n",
        "  newG = aGame(aline[0], aline[1], aline[2], aline[3], aline[4], aline[5], aline[6],\n",
        "               aline[7], aline[8], aline[9], aline[10], aline[11])\n",
        "  for n in range(12, 27):\n",
        "    aline[n] = int(aline[n])\n",
        "\n",
        "  newG.TStats.update(aline[12], aline[13], aline[14], aline[15], aline[16], aline[17], \n",
        "                     aline[18], aline[19], aline[20], aline[21], aline[22], aline[23], \n",
        "                     aline[24], aline[25], aline[26])\n",
        "  return newG"
      ]
    },
    {
      "cell_type": "code",
      "execution_count": null,
      "metadata": {
        "id": "wgPAdeN2mkcH"
      },
      "outputs": [],
      "source": [
        "def readLines(filename, forPlay = True):\n",
        "  with open(filename, newline='') as f:\n",
        "      reader = csv.reader(f)\n",
        "      next(reader)\n",
        "      rawDataL = list(reader)\n",
        "  #print(rawDataL)\n",
        "  #'ID', 'GameDay', 'GameTime', 'Home', 'HomeID', 'Visitor', 'VisitorID', 'ScoreVis', \n",
        "  #'ScoreHome', 'GameStatus', 'Venue', 'CityState', 'Neutral', 'Division', 'Conference', 'Playoffs'\n",
        "  #print(\"RawDataLength \",len(rawDataL))\n",
        "  data = []\n",
        "  if forPlay:\n",
        "    for oneLine in rawDataL:\n",
        "      g = aLinetoAPlay(oneLine)\n",
        "      data.append(g)\n",
        "  else:\n",
        "    for oneLine in rawDataL:\n",
        "      g = aLinetoGame(oneLine)\n",
        "      data.append(g)\n",
        "  return data"
      ]
    },
    {
      "cell_type": "code",
      "execution_count": null,
      "metadata": {
        "id": "qoiQWhra_vu0"
      },
      "outputs": [],
      "source": [
        "filenameTeam = '/content/gdrive/My Drive/2021 Fall/Thesis I/NBA Data/nba 18-19/NatStat-NBA2019-Team_Statlines.csv'\n",
        "allDataTeam = readLines(filenameTeam, forPlay = False)"
      ]
    },
    {
      "cell_type": "code",
      "execution_count": null,
      "metadata": {
        "id": "ZzwTVtB6KVS5"
      },
      "outputs": [],
      "source": [
        "from copy import deepcopy\n",
        "allData = readLines(filename)"
      ]
    },
    {
      "cell_type": "code",
      "execution_count": null,
      "metadata": {
        "colab": {
          "base_uri": "https://localhost:8080/"
        },
        "id": "b0KvgfYkK14w",
        "outputId": "bed6c568-70b2-4b24-b398-57f8d8906c2f"
      },
      "outputs": [
        {
          "name": "stdout",
          "output_type": "stream",
          "text": [
            "['2018-10-16', '985248', '1-1760', '1', '12:00', 'Philadelphia 76ers', '28', '0', 'Boston Celtics', '5', '0', 'Philadelphia 76ers', '28', 'PHI', '5', 'Boston Celtics', '0', '0', 'Jump Ball: Joel Embiid vs. Al Horford -- Ben Simmons gains possession', '', '0', '0', 'JUMP', '', '']\n",
            "False\n",
            "True\n",
            "543835\n",
            "2580\n"
          ]
        }
      ],
      "source": [
        "print(rawDataL[0])\n",
        "print(allData[0].Tags.REB)\n",
        "print(allData[0].Tags.JUMP)\n",
        "print(len(allData))\n",
        "print(len(allDataTeam))"
      ]
    },
    {
      "cell_type": "code",
      "execution_count": null,
      "metadata": {
        "id": "zOutZ3IwF7pX"
      },
      "outputs": [],
      "source": [
        "from collections import defaultdict\n",
        "groups = defaultdict(list)\n",
        "\n",
        "for o in allData:\n",
        "    groups[o.GameID].append(o)\n",
        "\n",
        "gList = list(groups.values())"
      ]
    },
    {
      "cell_type": "code",
      "execution_count": null,
      "metadata": {
        "colab": {
          "base_uri": "https://localhost:8080/"
        },
        "id": "SPA3iZhCGd7z",
        "outputId": "cce989d8-85b0-4f8f-f507-e76f622b1611"
      },
      "outputs": [
        {
          "name": "stdout",
          "output_type": "stream",
          "text": [
            "<class 'list'>\n",
            "985248\n",
            "543835\n"
          ]
        }
      ],
      "source": [
        "print(type(gList))\n",
        "print(gList[0][0].GameID)\n",
        "dataF = []\n",
        "for gl in gList:\n",
        "  xL = list(filter(lambda x: x.GameID == gl[0].GameID and x.Home, allDataTeam))\n",
        "  x = xL[0]\n",
        "  if(len(xL) != 1):\n",
        "    print(\"gl[0].GameID\")\n",
        "  for g in gl:\n",
        "    g.addGResult(x)\n",
        "    #print(x.WinID)\n",
        "    dataF.append(g)\n",
        "print(len(dataF))\n",
        "#for g in gList:\n"
      ]
    },
    {
      "cell_type": "code",
      "execution_count": null,
      "metadata": {
        "id": "F6F9-mX1PQqv"
      },
      "outputs": [],
      "source": [
        "def pick2GroupsG(allData, afterN = 120, range = 5):\n",
        "  allData = list(filter(lambda g: not g.Playoffs, allData))\n",
        "  nData = len(allData)\n",
        "  test_daysAfterN = list(filter(lambda g: g.DayCount >= afterN, allData))\n",
        "  test_daysAfterN = list(map(lambda g: g.DayCount, test_daysAfterN))\n",
        "  test_days = list(set(test_daysAfterN))\n",
        "  test_days.sort()\n",
        "  test_listGroups = []\n",
        "  train_listGroups = []\n",
        "  for daysC in test_days[:range]:\n",
        "    test_listGroups.append(list(filter(lambda g: g.DayCount == daysC, allData)))\n",
        "    train_listGroups.append(list(filter(lambda g: g.DayCount < daysC, allData)))\n",
        "  return (train_listGroups, test_listGroups)"
      ]
    },
    {
      "cell_type": "code",
      "execution_count": null,
      "metadata": {
        "id": "F3gboXS0NLks"
      },
      "outputs": [],
      "source": [
        "import torch\n",
        "import torch.nn as nn\n",
        "import torch.nn.functional as F\n",
        "\n",
        "def playtoTensor(p : aPlay):\n",
        "  tensor = torch.zeros(1, 1, 110)\n",
        "  \"\"\"\n",
        "  ['GameDay', 'GameID', 'Sort', 'Period', 'Time', 'Visitor', \n",
        "      'VisitorID', 'ScoreVis', 'Home', 'HomeID', 'ScoreHome', \n",
        "      'Team', 'TeamID', 'TeamAbbrev', 'OppID', 'Opp', 'Diff', \n",
        "      'PlayerID', 'Description', 'ScoringPlay', 'Points', \n",
        "      'Distance', 'Tags', 'FieldHome', 'FieldVis']\n",
        "\n",
        "      self.FA3 = False\n",
        "    self.FM3 = False\n",
        "    self.FGA = False\n",
        "    self.FGM = False\n",
        "    self.FTA = False\n",
        "    self.FTM = False\n",
        "    self.PF = False\n",
        "\n",
        "    self.TRB = False\n",
        "    self.ORB = False\n",
        "    self.REB = False\n",
        "    self.STL = False  \n",
        "    self.TO = False\n",
        "    self.JUMP = False\n",
        "    self.BLK = False\n",
        "    self.MISC = False\n",
        "    self.AST = False\n",
        "    self.SUB = False\n",
        "    self.TIMEOUT = False\n",
        "      \"\"\"\n",
        "  tensor[0][0][p.VisitorID-1] = 1\n",
        "  tensor[0][0][p.HomeID+37] = 1\n",
        "  tensor[0][0][76] = int(p.aGame.TeamID == p.TeamID)\n",
        "  tensor[0][0][77] = float(p.DayCount)/250\n",
        "  tensor[0][0][78] = float(p.Period)/4\n",
        "  tensor[0][0][79] = float(p.Time)/720\n",
        "  tensor[0][0][80] = float(p.SDiff)/80\n",
        "  tensor[0][0][81] = int(p.ScoringPlay)\n",
        "  tensor[0][0][82] = float(p.Points)/3\n",
        "  tensor[0][0][83] = int(p.Tags.FA3)\n",
        "  tensor[0][0][84] = int(p.Tags.FM3)\n",
        "  tensor[0][0][85] = int(p.Tags.FGA)\n",
        "  tensor[0][0][86] = int(p.Tags.FGM)\n",
        "  tensor[0][0][87] = int(p.Tags.FTA)\n",
        "  tensor[0][0][88] = int(p.Tags.FTM)\n",
        "  tensor[0][0][89] = int(p.Tags.PF)\n",
        "  tensor[0][0][90] = int(p.Tags.TRB)\n",
        "  tensor[0][0][91] = int(p.Tags.ORB)\n",
        "  tensor[0][0][92] = int(p.Tags.REB)\n",
        "  tensor[0][0][93] = int(p.Tags.STL)\n",
        "  tensor[0][0][94] = int(p.Tags.TO)\n",
        "  tensor[0][0][95] = int(p.Tags.JUMP)\n",
        "  tensor[0][0][96] = int(p.Tags.BLK)\n",
        "  tensor[0][0][97] = int(p.Tags.MISC)\n",
        "  tensor[0][0][98] = int(p.Tags.AST)\n",
        "  tensor[0][0][99] = int(p.Tags.SUB)\n",
        "  tensor[0][0][100] = int(p.Tags.TIMEOUT)\n",
        "  tensor[0][0][101] = int(p.Tags.Nothing)\n",
        "  tensor[0][0][102] = int(p.TeamID == p.HomeID)\n",
        "  tensor[0][0][103] = float(p.ScoreVis)/170\n",
        "  tensor[0][0][104] = float(p.ScoreHome)/170\n",
        "  tensor[0][0][105] = ((p.Period-1)*720+float(p.Time))/3000\n",
        "  tensor[0][0][106] = float(p.Points)/4\n",
        "  tensor[0][0][107] = p.OT\n",
        "  tensor[0][0][108] = p.SameTeamI\n",
        "  \"\"\"\n",
        "  tensor[0][0][78] = g.TStatsP.MIN/260\n",
        "  tensor[0][0][79] = g.TStatsP.PTS/160\n",
        "  tensor[0][0][80] = g.TStatsP.FGM/60\n",
        "  tensor[0][0][81] = g.TStatsP.FGA/120\n",
        "  tensor[0][0][82] = g.TStatsP.FM3/30\n",
        "  tensor[0][0][83] = g.TStatsP.FTM/50\n",
        "  tensor[0][0][84] = g.TStatsP.FTA/60\n",
        "  tensor[0][0][85] = g.TStatsP.REB/80\n",
        "  tensor[0][0][86] = g.TStatsP.AST/50\n",
        "  tensor[0][0][87] = g.TStatsP.STL/20\n",
        "  tensor[0][0][88] = g.TStatsP.BLK/20\n",
        "  tensor[0][0][89] = g.TStatsP.OREB/50\n",
        "  tensor[0][0][90] = g.TStatsP.TO/50\n",
        "  tensor[0][0][91] = g.TStatsP.PF/50\n",
        "  \n",
        "  tensor[0][0][92] = g.TStatsP.Win/72\n",
        "  tensor[0][0][93] = g.TStatsP.Loss/72\n",
        "  tensor[0][0][94] = g.TStatsP.WinRate\n",
        "  \n",
        "  tensor[0][0][95] = g.OppStatsP.MIN/260\n",
        "  tensor[0][0][96] = g.OppStatsP.PTS/160\n",
        "  tensor[0][0][97] = g.OppStatsP.FGM/60\n",
        "  tensor[0][0][98] = g.OppStatsP.FGA/120\n",
        "  tensor[0][0][99] = g.OppStatsP.FM3/30\n",
        "  tensor[0][0][100] = g.OppStatsP.FTM/50\n",
        "  tensor[0][0][101] = g.OppStatsP.FTA/60\n",
        "  tensor[0][0][102] = g.OppStatsP.REB/80\n",
        "  tensor[0][0][103] = g.OppStatsP.AST/50\n",
        "  tensor[0][0][104] = g.OppStatsP.STL/20\n",
        "  tensor[0][0][105] = g.OppStatsP.BLK/20\n",
        "  tensor[0][0][106] = g.OppStatsP.OREB/50\n",
        "  tensor[0][0][107] = g.OppStatsP.TO/50\n",
        "  tensor[0][0][108] = g.OppStatsP.PF/50\n",
        "\n",
        "  tensor[0][0][109] = g.OppStatsP.Win/72\n",
        "  tensor[0][0][110] = g.OppStatsP.Loss/72\n",
        "  tensor[0][0][111] = g.OppStatsP.WinRate\n",
        "  \n",
        "  tensor[0][0][112] = g.TStatsP.WinBy/60\n",
        "  tensor[0][0][113] = g.OppStatsP.WinBy/60\n",
        "  \"\"\"\n",
        "  return tensor\n",
        "\n",
        "def playstoTensorTrain(plays):\n",
        "  p_tensor_list = []\n",
        "  for p in plays:\n",
        "    p_tensor_list.append((playtoTensor(p), p.aGame.WinID))\n",
        "    #print(p.aGame.WinID)\n",
        "    #print(g_tensor_list[0][1][0][0].item())\n",
        "  return p_tensor_list\n",
        "def playstoTensorTest(plays):\n",
        "  p_tensor_list = []\n",
        "  for p in plays:\n",
        "    p_tensor_list.append((playtoTensor(p), p.aGame.WinID, p.Period, p.Time, p.SDiff, p.GameID, p.DayCount))\n",
        "  return p_tensor_list"
      ]
    },
    {
      "cell_type": "code",
      "execution_count": null,
      "metadata": {
        "id": "rZaOsjoPNRdl"
      },
      "outputs": [],
      "source": [
        "import time\n",
        "import math\n",
        "import statistics\n",
        "from statistics import mean\n",
        "def timeSince(since):\n",
        "    now = time.time()\n",
        "    s = now - since\n",
        "    m = math.floor(s / 60)\n",
        "    s -= m * 60\n",
        "    return '%dm %ds' % (m, s)\n",
        "\n",
        "def runModel(train_tlistGroups, test_tlistGroups):\n",
        "  start = time.time()\n",
        "  \n",
        "  time_list = []\n",
        "  print(len(train_tlistGroups), len(test_tlistGroups))\n",
        "  for t in range(len(train_tlistGroups)):\n",
        "    print('Model: ', t)\n",
        "    model = nn.Sequential(nn.Linear(110, 64),\n",
        "                          nn.Tanh(),\n",
        "                          nn.Linear(64, 16),\n",
        "                          nn.Tanh(),\n",
        "                          nn.Linear(16, 2),\n",
        "                          nn.LogSoftmax(dim=1)\n",
        "                          #nn.Tanh(),\n",
        "                          )\n",
        "    #model = model.to(device=device)\n",
        "    learning_rate = 0.005\n",
        "    optimizer = torch.optim.SGD(model.parameters(), lr=learning_rate)\n",
        "    loss_fn = nn.NLLLoss()#meansquarerror\n",
        "    n_epochs = 30\n",
        "    for epoch in range(n_epochs):\n",
        "      \n",
        "      train_loader = torch.utils.data.DataLoader(train_tlistGroups[t], batch_size = 32, shuffle = True)\n",
        "      for gs, labels in train_loader:\n",
        "      #for g, label in train_tlistGroups[t]:\n",
        "        #gs = gs.to(device=device)\n",
        "        #labels = labels.to(device = device)\n",
        "\n",
        "        #batch_size = g.shape[0]\n",
        "        batch_size = gs.shape[0]\n",
        "        outputs = model(gs.view(batch_size, -1))\n",
        "        loss = loss_fn(outputs, labels)\n",
        "        optimizer.zero_grad()\n",
        "        loss.backward()\n",
        "        optimizer.step()\n",
        "        \n",
        "      if (epoch+1)%10 == 0:\n",
        "        print(timeSince(start))\n",
        "        print(\"Epoch: %d, Loss: %f\" % (epoch, float(loss)))\n",
        "        \n",
        "    for gt, label, period, tm, diff, gID, dayC in test_tlistGroups[t]:\n",
        "      outputs = model(gt.view(1, -1))\n",
        "      #print('-')\n",
        "      #print(outputs)\n",
        "      _, predicted = torch.max(outputs, dim=1)\n",
        "      #print(predicted)\n",
        "      #print(label)\n",
        "      time_list.append((int(predicted == label), period, tm, diff, gID, dayC))\n",
        "  print(timeSince(start))\n",
        "  return time_list"
      ]
    },
    {
      "cell_type": "code",
      "execution_count": null,
      "metadata": {
        "id": "3Kt5vCi1NYHS"
      },
      "outputs": [],
      "source": [
        "def writeInPBP(newRecord):\n",
        "  p1Name='/content/gdrive/My Drive/2021 Fall/Thesis I/Records/PBP1819GID.txt'\n",
        "  p1file=open(p1Name)\n",
        "  p1file_content = p1file.read()\n",
        "  p1file=open(p1Name,\"w\")\n",
        "  p1file.write(p1file_content)\n",
        "  for label, period, tm, diff, gID, dayC in newRecord:\n",
        "    p1file.write(str(label)+\" \"+ str(period) + \" \" + str(tm)+ \" \" + str(abs(diff))+  \" \" + str(gID)+ \" \" + str(dayC) + \"\\n\")\n",
        "  p1file.write(\"-\\n\")\n",
        "  p1file=open(p1Name)\n",
        "  p1file_content = p1file.read()\n",
        "  #print(p1file_content)\n",
        "  p1file.close()"
      ]
    },
    {
      "cell_type": "code",
      "execution_count": null,
      "metadata": {
        "id": "D3hatlIOzE1c"
      },
      "outputs": [],
      "source": [
        "trainGs, testGs = pick2GroupsG(allData, afterN = 140, range = 10)"
      ]
    },
    {
      "cell_type": "code",
      "execution_count": null,
      "metadata": {
        "colab": {
          "background_save": true
        },
        "id": "Y9hiNtrybCYi"
      },
      "outputs": [],
      "source": [
        "train_tlistGroups = list(map(lambda group: playstoTensorTrain(group), trainGs))\n",
        "test_tlistGroups = list(map(lambda group: playstoTensorTest(group), testGs))\n"
      ]
    },
    {
      "cell_type": "code",
      "execution_count": null,
      "metadata": {
        "colab": {
          "background_save": true
        },
        "id": "TSkiaqBYHOoE",
        "outputId": "96410f36-7bef-4081-8178-815b3acbf970"
      },
      "outputs": [
        {
          "name": "stdout",
          "output_type": "stream",
          "text": [
            "Run 0\n",
            "10 10\n",
            "Model:  0\n",
            "1m 35s\n",
            "Epoch: 9, Loss: 0.331425\n",
            "3m 8s\n",
            "Epoch: 19, Loss: 0.722927\n",
            "4m 41s\n",
            "Epoch: 29, Loss: 0.011758\n",
            "Model:  1\n",
            "6m 17s\n",
            "Epoch: 9, Loss: 0.209137\n",
            "7m 52s\n",
            "Epoch: 19, Loss: 0.021905\n",
            "9m 26s\n",
            "Epoch: 29, Loss: 0.008264\n",
            "Model:  2\n",
            "11m 1s\n",
            "Epoch: 9, Loss: 0.336417\n",
            "12m 35s\n",
            "Epoch: 19, Loss: 0.150905\n",
            "14m 10s\n",
            "Epoch: 29, Loss: 0.025294\n",
            "Model:  3\n",
            "15m 45s\n",
            "Epoch: 9, Loss: 0.370902\n",
            "17m 20s\n",
            "Epoch: 19, Loss: 0.039016\n",
            "18m 54s\n",
            "Epoch: 29, Loss: 0.024289\n",
            "Model:  4\n",
            "20m 30s\n",
            "Epoch: 9, Loss: 0.352816\n",
            "22m 7s\n",
            "Epoch: 19, Loss: 0.086230\n",
            "23m 42s\n",
            "Epoch: 29, Loss: 0.014520\n",
            "Model:  5\n",
            "25m 19s\n",
            "Epoch: 9, Loss: 0.317948\n",
            "26m 55s\n",
            "Epoch: 19, Loss: 0.133803\n",
            "28m 31s\n",
            "Epoch: 29, Loss: 0.005287\n",
            "Model:  6\n",
            "30m 8s\n",
            "Epoch: 9, Loss: 0.135404\n",
            "31m 44s\n",
            "Epoch: 19, Loss: 0.327760\n",
            "33m 20s\n",
            "Epoch: 29, Loss: 0.129369\n",
            "Model:  7\n",
            "34m 58s\n",
            "Epoch: 9, Loss: 0.463993\n",
            "36m 35s\n",
            "Epoch: 19, Loss: 0.162860\n",
            "38m 12s\n",
            "Epoch: 29, Loss: 0.019565\n",
            "Model:  8\n",
            "39m 49s\n",
            "Epoch: 9, Loss: 0.360541\n",
            "41m 26s\n",
            "Epoch: 19, Loss: 0.124194\n",
            "43m 3s\n",
            "Epoch: 29, Loss: 0.035620\n",
            "Model:  9\n",
            "44m 40s\n",
            "Epoch: 9, Loss: 0.256984\n",
            "46m 18s\n",
            "Epoch: 19, Loss: 0.061828\n",
            "47m 55s\n",
            "Epoch: 29, Loss: 0.016672\n",
            "47m 56s\n"
          ]
        }
      ],
      "source": [
        "timeList = []\n",
        "for i in range(1):\n",
        "  print('Run %d' %i)\n",
        "  writeInPBP(runModel( train_tlistGroups, test_tlistGroups))\n",
        "  #writeIn(runModel(trainGs, testGs))"
      ]
    }
  ],
  "metadata": {
    "accelerator": "TPU",
    "colab": {
      "collapsed_sections": [],
      "machine_shape": "hm",
      "name": "PBP1819GID.ipynb",
      "provenance": [],
      "authorship_tag": "ABX9TyMAGzaJWn3GNWCoXhu+3etY",
      "include_colab_link": true
    },
    "kernelspec": {
      "display_name": "Python 3",
      "name": "python3"
    },
    "language_info": {
      "name": "python"
    }
  },
  "nbformat": 4,
  "nbformat_minor": 0
}