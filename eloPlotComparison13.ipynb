{
  "nbformat": 4,
  "nbformat_minor": 0,
  "metadata": {
    "colab": {
      "name": "eloPlotComparison13.ipynb",
      "provenance": [],
      "collapsed_sections": [],
      "authorship_tag": "ABX9TyOWC9VtDwdAiMOrVZe6Ahq8",
      "include_colab_link": true
    },
    "kernelspec": {
      "name": "python3",
      "display_name": "Python 3"
    },
    "language_info": {
      "name": "python"
    }
  },
  "cells": [
    {
      "cell_type": "markdown",
      "metadata": {
        "id": "view-in-github",
        "colab_type": "text"
      },
      "source": [
        "<a href=\"https://colab.research.google.com/github/flee2-trinity/Deep-Learning-in-Sports-Result-Prediction-/blob/main/eloPlotComparison13.ipynb\" target=\"_parent\"><img src=\"https://colab.research.google.com/assets/colab-badge.svg\" alt=\"Open In Colab\"/></a>"
      ]
    },
    {
      "cell_type": "code",
      "metadata": {
        "colab": {
          "base_uri": "https://localhost:8080/"
        },
        "id": "8dvberQjLOnF",
        "outputId": "4e56f53b-56ca-4b98-e7cf-0e85ffb772d6"
      },
      "source": [
        "from google.colab import drive\n",
        "\n",
        "drive.mount('/content/gdrive')\n",
        "DATA_PATH = '/content/gdrive/My Drive/2021 Fall/Thesis I'"
      ],
      "execution_count": null,
      "outputs": [
        {
          "output_type": "stream",
          "name": "stdout",
          "text": [
            "Drive already mounted at /content/gdrive; to attempt to forcibly remount, call drive.mount(\"/content/gdrive\", force_remount=True).\n"
          ]
        }
      ]
    },
    {
      "cell_type": "code",
      "metadata": {
        "id": "9wApZoPcLcW5"
      },
      "source": [
        "import csv\n",
        "filename = '/content/gdrive/My Drive/2021 Fall/Thesis I/Records/elo2_20.txt'\n",
        "with open(filename, newline='') as f:\n",
        "  reader = csv.reader(f)\n",
        "  p1content = list(reader)"
      ],
      "execution_count": null,
      "outputs": []
    },
    {
      "cell_type": "code",
      "source": [
        "season = 2013\n",
        "tpName = 'elo'\n",
        "q = 158\n",
        "xList = [i for i in range(q)]\n",
        "y2List = []\n",
        "#date, pow, s, season, tp\n",
        "tempL = list(map(lambda a: a[0].split(), p1content))\n",
        "cList = list(filter(lambda a: len(a) > 2, tempL))\n",
        "for x in xList:\n",
        "  h = list(filter(lambda s: s[4] == tpName and int(s[3]) == season and int(s[0]) == x, cList))\n",
        "  #print(x)\n",
        "  g = h[0]\n",
        "  y2List.append(float(g[2]))"
      ],
      "metadata": {
        "id": "59aAAiV72kvH"
      },
      "execution_count": null,
      "outputs": []
    },
    {
      "cell_type": "code",
      "source": [
        "from statistics import mean\n",
        "filename0 = '/content/gdrive/My Drive/2021 Fall/Thesis I/Records/Rank2013.txt'\n",
        "with open(filename0, newline='') as f:\n",
        "  reader = csv.reader(f)\n",
        "  p0content = list(reader)\n",
        "y2List0 = [[]for i in range(q)]\n",
        "for t in range(len(p0content)):\n",
        "  s = p0content[t][0].split()\n",
        "  if s[0] != '-' :\n",
        "    #print(t % 164)\n",
        "    i = int(s[0])\n",
        "    if i<q:\n",
        "      y2List0[i].append(float(s[2]))\n",
        "y2ListM0 = list(map(lambda d: mean(d), y2List0))"
      ],
      "metadata": {
        "id": "fsaJ41uZwBDG"
      },
      "execution_count": null,
      "outputs": []
    },
    {
      "cell_type": "code",
      "source": [
        "y2013 = [i for i in range(len(y2List))]\n",
        "for i in range(len(y2List)):\n",
        "  y2013[i] = y2ListM0[i] - y2List[i]"
      ],
      "metadata": {
        "id": "9L0anfB4cHPh"
      },
      "execution_count": null,
      "outputs": []
    },
    {
      "cell_type": "code",
      "source": [
        "season = 2014\n",
        "q = 158\n",
        "xList = [i for i in range(q)]\n",
        "y2List = []\n",
        "#date, pow, s, season, tp\n",
        "tempL = list(map(lambda a: a[0].split(), p1content))\n",
        "cList = list(filter(lambda a: len(a) > 2, tempL))\n",
        "for x in xList:\n",
        "  h = list(filter(lambda s: s[4] == tpName and int(s[3]) == season and int(s[0]) == x, cList))\n",
        "  #print(x)\n",
        "  g = h[0]\n",
        "  y2List.append(float(g[2]))"
      ],
      "metadata": {
        "id": "fF_8lRsJd4Ka"
      },
      "execution_count": null,
      "outputs": []
    },
    {
      "cell_type": "code",
      "source": [
        "filename0 = '/content/gdrive/My Drive/2021 Fall/Thesis I/Records/Rank2014.txt'\n",
        "with open(filename0, newline='') as f:\n",
        "  reader = csv.reader(f)\n",
        "  p0content = list(reader)\n",
        "y2List0 = [[]for i in range(q)]\n",
        "for t in range(len(p0content)):\n",
        "  s = p0content[t][0].split()\n",
        "  if s[0] != '-' :\n",
        "    #print(t % 164)\n",
        "    i = int(s[0])\n",
        "    if i<q:\n",
        "      y2List0[i].append(float(s[2]))\n",
        "y2ListM0 = list(map(lambda d: mean(d), y2List0))"
      ],
      "metadata": {
        "id": "7AtUWUnBepIZ"
      },
      "execution_count": null,
      "outputs": []
    },
    {
      "cell_type": "code",
      "source": [
        "y2014 = [i for i in range(len(y2List))]\n",
        "for i in range(len(y2List)):\n",
        "  y2014[i] = y2ListM0[i] - y2List[i]"
      ],
      "metadata": {
        "id": "A5r-5U_ffCey"
      },
      "execution_count": null,
      "outputs": []
    },
    {
      "cell_type": "code",
      "source": [
        "season = 2015\n",
        "q = 157\n",
        "xList = [i for i in range(q)]\n",
        "y2List = []\n",
        "#date, pow, s, season, tp\n",
        "tempL = list(map(lambda a: a[0].split(), p1content))\n",
        "cList = list(filter(lambda a: len(a) > 2, tempL))\n",
        "for x in xList:\n",
        "  h = list(filter(lambda s: s[4] == tpName and int(s[3]) == season and int(s[0]) == x, cList))\n",
        "  #print(x)\n",
        "  g = h[0]\n",
        "  y2List.append(float(g[2]))"
      ],
      "metadata": {
        "id": "1zKpOw6AfONw"
      },
      "execution_count": null,
      "outputs": []
    },
    {
      "cell_type": "code",
      "source": [
        "filename0 = '/content/gdrive/My Drive/2021 Fall/Thesis I/Records/Rank2015.txt'\n",
        "with open(filename0, newline='') as f:\n",
        "  reader = csv.reader(f)\n",
        "  p0content = list(reader)\n",
        "y2List0 = [[]for i in range(q)]\n",
        "for t in range(len(p0content)):\n",
        "  s = p0content[t][0].split()\n",
        "  if s[0] != '-' :\n",
        "    #print(t % 164)\n",
        "    i = int(s[0])\n",
        "    if i<q:\n",
        "      y2List0[i].append(float(s[2]))\n",
        "y2ListM0 = list(map(lambda d: mean(d), y2List0))"
      ],
      "metadata": {
        "id": "0HygWOt3fQW4"
      },
      "execution_count": null,
      "outputs": []
    },
    {
      "cell_type": "code",
      "source": [
        "y2015 = [i for i in range(len(y2List))]\n",
        "for i in range(len(y2List)):\n",
        "  y2015[i] = y2ListM0[i] - y2List[i]"
      ],
      "metadata": {
        "id": "ATdRMPyEfeuC"
      },
      "execution_count": null,
      "outputs": []
    },
    {
      "cell_type": "code",
      "source": [
        "season = 2016\n",
        "q = 156\n",
        "xList = [i for i in range(q)]\n",
        "y2List = []\n",
        "#date, pow, s, season, tp\n",
        "tempL = list(map(lambda a: a[0].split(), p1content))\n",
        "cList = list(filter(lambda a: len(a) > 2, tempL))\n",
        "for x in xList:\n",
        "  h = list(filter(lambda s: s[4] == tpName and int(s[3]) == season and int(s[0]) == x, cList))\n",
        "  #print(x)\n",
        "  g = h[0]\n",
        "  y2List.append(float(g[2]))"
      ],
      "metadata": {
        "id": "a6ASxnQbf50g"
      },
      "execution_count": null,
      "outputs": []
    },
    {
      "cell_type": "code",
      "source": [
        "filename0 = '/content/gdrive/My Drive/2021 Fall/Thesis I/Records/Rank2016.txt'\n",
        "with open(filename0, newline='') as f:\n",
        "  reader = csv.reader(f)\n",
        "  p0content = list(reader)\n",
        "y2List0 = [[]for i in range(q)]\n",
        "for t in range(len(p0content)):\n",
        "  s = p0content[t][0].split()\n",
        "  if s[0] != '-' :\n",
        "    #print(t % 164)\n",
        "    i = int(s[0])\n",
        "    if i<q:\n",
        "      y2List0[i].append(float(s[2]))\n",
        "y2ListM0 = list(map(lambda d: mean(d), y2List0))"
      ],
      "metadata": {
        "id": "-3I2UhqQgEP6"
      },
      "execution_count": null,
      "outputs": []
    },
    {
      "cell_type": "code",
      "source": [
        "y2016 = [i for i in range(len(y2List))]\n",
        "for i in range(len(y2List)):\n",
        "  y2016[i] = y2ListM0[i] - y2List[i]"
      ],
      "metadata": {
        "id": "-rWz5M9pgGEQ"
      },
      "execution_count": null,
      "outputs": []
    },
    {
      "cell_type": "code",
      "source": [
        "season = 2017\n",
        "q = 156\n",
        "xList = [i for i in range(q)]\n",
        "y2List = []\n",
        "#date, pow, s, season, tp\n",
        "tempL = list(map(lambda a: a[0].split(), p1content))\n",
        "cList = list(filter(lambda a: len(a) > 2, tempL))\n",
        "for x in xList:\n",
        "  h = list(filter(lambda s: s[4] == tpName and int(s[3]) == season and int(s[0]) == x, cList))\n",
        "  #print(x)\n",
        "  g = h[0]\n",
        "  y2List.append(float(g[2]))"
      ],
      "metadata": {
        "id": "vK_ZZMr-gSfg"
      },
      "execution_count": null,
      "outputs": []
    },
    {
      "cell_type": "code",
      "source": [
        "filename0 = '/content/gdrive/My Drive/2021 Fall/Thesis I/Records/Rank2017.txt'\n",
        "with open(filename0, newline='') as f:\n",
        "  reader = csv.reader(f)\n",
        "  p0content = list(reader)\n",
        "y2List0 = [[]for i in range(q)]\n",
        "for t in range(len(p0content)):\n",
        "  s = p0content[t][0].split()\n",
        "  if s[0] != '-' :\n",
        "    #print(t % 164)\n",
        "    i = int(s[0])\n",
        "    if i<q:\n",
        "      y2List0[i].append(float(s[2]))\n",
        "y2ListM0 = list(map(lambda d: mean(d), y2List0))"
      ],
      "metadata": {
        "id": "YALt09EegX1J"
      },
      "execution_count": null,
      "outputs": []
    },
    {
      "cell_type": "code",
      "source": [
        "y2017 = [i for i in range(len(y2List))]\n",
        "for i in range(len(y2List)):\n",
        "  y2017[i] = y2ListM0[i] - y2List[i]"
      ],
      "metadata": {
        "id": "lnusaJTcgkEQ"
      },
      "execution_count": null,
      "outputs": []
    },
    {
      "cell_type": "code",
      "source": [
        "season = 2018\n",
        "q = 163\n",
        "xList = [i for i in range(q)]\n",
        "y2List = []\n",
        "#date, pow, s, season, tp\n",
        "tempL = list(map(lambda a: a[0].split(), p1content))\n",
        "cList = list(filter(lambda a: len(a) > 2, tempL))\n",
        "for x in xList:\n",
        "  h = list(filter(lambda s: s[4] == tpName and int(s[3]) == season and int(s[0]) == x, cList))\n",
        "  #print(x)\n",
        "  g = h[0]\n",
        "  y2List.append(float(g[2]))"
      ],
      "metadata": {
        "id": "8Zhn1TSKgrTq"
      },
      "execution_count": null,
      "outputs": []
    },
    {
      "cell_type": "code",
      "source": [
        "filename0 = '/content/gdrive/My Drive/2021 Fall/Thesis I/Records/Rank2018.txt'\n",
        "with open(filename0, newline='') as f:\n",
        "  reader = csv.reader(f)\n",
        "  p0content = list(reader)\n",
        "y2List0 = [[]for i in range(q)]\n",
        "for t in range(len(p0content)):\n",
        "  s = p0content[t][0].split()\n",
        "  if s[0] != '-' :\n",
        "    #print(t % 164)\n",
        "    i = int(s[0])\n",
        "    if i<q:\n",
        "      y2List0[i].append(float(s[2]))\n",
        "y2ListM0 = list(map(lambda d: mean(d), y2List0))"
      ],
      "metadata": {
        "id": "wx3l-uJkhGZJ"
      },
      "execution_count": null,
      "outputs": []
    },
    {
      "cell_type": "code",
      "source": [
        "y2018 = [i for i in range(len(y2List))]\n",
        "for i in range(len(y2List)):\n",
        "  y2018[i] = y2ListM0[i] - y2List[i]"
      ],
      "metadata": {
        "id": "m9LI2TYmhUm5"
      },
      "execution_count": null,
      "outputs": []
    },
    {
      "cell_type": "code",
      "source": [
        "season = 2019\n",
        "q = 163\n",
        "xList = [i for i in range(q)]\n",
        "y2List = []\n",
        "#date, pow, s, season, tp\n",
        "tempL = list(map(lambda a: a[0].split(), p1content))\n",
        "cList = list(filter(lambda a: len(a) > 2, tempL))\n",
        "for x in xList:\n",
        "  h = list(filter(lambda s: s[4] == tpName and int(s[3]) == season and int(s[0]) == x, cList))\n",
        "  #print(x)\n",
        "  g = h[0]\n",
        "  y2List.append(float(g[2]))"
      ],
      "metadata": {
        "id": "MxFywE9shiCx"
      },
      "execution_count": null,
      "outputs": []
    },
    {
      "cell_type": "code",
      "source": [
        "filename0 = '/content/gdrive/My Drive/2021 Fall/Thesis I/Records/Rank2_22.txt'\n",
        "with open(filename0, newline='') as f:\n",
        "  reader = csv.reader(f)\n",
        "  p0content = list(reader)\n",
        "y2List0 = [[]for i in range(q)]\n",
        "for t in range(len(p0content)):\n",
        "  s = p0content[t][0].split()\n",
        "  if s[0] != '-' :\n",
        "    #print(t % 164)\n",
        "    i = int(s[0])\n",
        "    if i<q:\n",
        "      y2List0[i].append(float(s[2]))\n",
        "y2ListM0 = list(map(lambda d: mean(d), y2List0))"
      ],
      "metadata": {
        "id": "sGahod2vh__Z"
      },
      "execution_count": null,
      "outputs": []
    },
    {
      "cell_type": "code",
      "source": [
        "y2019 = [i for i in range(len(y2List))]\n",
        "for i in range(len(y2List)):\n",
        "  y2019[i] = y2ListM0[i] - y2List[i]"
      ],
      "metadata": {
        "id": "wd_J5yA_iD14"
      },
      "execution_count": null,
      "outputs": []
    },
    {
      "cell_type": "code",
      "metadata": {
        "colab": {
          "base_uri": "https://localhost:8080/",
          "height": 265
        },
        "id": "lWrudjYMaHyb",
        "outputId": "ebfab5ae-a42c-4bcb-ceae-380e4b630e52"
      },
      "source": [
        "import matplotlib.pyplot as plt\n",
        "import numpy as np\n",
        "plt.plot(xList, y2019, label = \"C\")\n",
        "plt.legend()\n",
        "plt.show()"
      ],
      "execution_count": null,
      "outputs": [
        {
          "output_type": "display_data",
          "data": {
            "image/png": "[encoded data removed]",
            "text/plain": [
              "<Figure size 432x288 with 1 Axes>"
            ]
          },
          "metadata": {
            "needs_background": "light"
          }
        }
      ]
    },
    {
      "cell_type": "code",
      "source": [
        "chunk = 5\n",
        "def sp(yL):\n",
        "  temp = np.array_split(yL, chunk)\n",
        "  return list(map(lambda x: mean(x), temp))"
      ],
      "metadata": {
        "id": "rYdibCP6kfUB"
      },
      "execution_count": null,
      "outputs": []
    },
    {
      "cell_type": "code",
      "source": [
        "from matplotlib.ticker import FormatStrFormatter\n",
        "xList = [i + 1 for i in range(chunk)]\n",
        "plt.plot(xList, sp(y2013), 'ro', label = \"2013\", color = 'black')\n",
        "plt.plot(xList, sp(y2014), 'ro', label = \"2014\", color = 'blue')\n",
        "plt.plot(xList, sp(y2015), 'ro', label = \"2015\", color = 'brown')\n",
        "plt.plot(xList, sp(y2016), 'ro', label = \"2016\", color = 'orange')\n",
        "plt.plot(xList, sp(y2017), 'ro', label = \"2017\", color = 'green')\n",
        "plt.plot(xList, sp(y2018), 'ro', label = \"2018\", color = 'purple')\n",
        "plt.plot(xList, sp(y2019), 'ro', label = \"2019\")\n",
        "plt.legend()\n",
        "ax = plt.gca()\n",
        "ax.xaxis.set_major_formatter(FormatStrFormatter('%.0f'))\n",
        "plt.show()"
      ],
      "metadata": {
        "colab": {
          "base_uri": "https://localhost:8080/",
          "height": 265
        },
        "id": "ygXm1zudiK0P",
        "outputId": "9291e8b0-66d1-48e3-be63-060b9969beca"
      },
      "execution_count": null,
      "outputs": [
        {
          "output_type": "display_data",
          "data": {
            "image/png": "[encoded data removed]",
            "text/plain": [
              "<Figure size 432x288 with 1 Axes>"
            ]
          },
          "metadata": {
            "needs_background": "light"
          }
        }
      ]
    }
  ]
}