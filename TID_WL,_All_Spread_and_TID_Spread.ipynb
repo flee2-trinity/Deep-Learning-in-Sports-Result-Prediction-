{
  "nbformat": 4,
  "nbformat_minor": 0,
  "metadata": {
    "colab": {
      "name": "TID-WL, All-Spread and TID-Spread.ipynb",
      "provenance": [],
      "collapsed_sections": [],
      "authorship_tag": "ABX9TyNRsWSQVHnGUxekhO8Z+SGu",
      "include_colab_link": true
    },
    "kernelspec": {
      "name": "python3",
      "display_name": "Python 3"
    },
    "language_info": {
      "name": "python"
    }
  },
  "cells": [
    {
      "cell_type": "markdown",
      "metadata": {
        "id": "view-in-github",
        "colab_type": "text"
      },
      "source": [
        "<a href=\"https://colab.research.google.com/github/flee2-trinity/Deep-Learning-in-Sports-Result-Prediction-/blob/main/TID_WL%2C_All_Spread_and_TID_Spread.ipynb\" target=\"_parent\"><img src=\"https://colab.research.google.com/assets/colab-badge.svg\" alt=\"Open In Colab\"/></a>"
      ]
    },
    {
      "cell_type": "code",
      "metadata": {
        "colab": {
          "base_uri": "https://localhost:8080/"
        },
        "id": "8dvberQjLOnF",
        "outputId": "f341c0e7-299a-426b-a72f-c1a6baba19bc"
      },
      "source": [
        "from google.colab import drive\n",
        "\n",
        "drive.mount('/content/gdrive')\n",
        "DATA_PATH = '/content/gdrive/My Drive/2021 Fall/Thesis I'"
      ],
      "execution_count": null,
      "outputs": [
        {
          "output_type": "stream",
          "name": "stdout",
          "text": [
            "Drive already mounted at /content/gdrive; to attempt to forcibly remount, call drive.mount(\"/content/gdrive\", force_remount=True).\n"
          ]
        }
      ]
    },
    {
      "cell_type": "code",
      "metadata": {
        "id": "9wApZoPcLcW5"
      },
      "source": [
        "import csv\n",
        "filename = '/content/gdrive/My Drive/2021 Fall/Thesis I/Records/12_13AllTeamsS18.txt'\n",
        "with open(filename, newline='') as f:\n",
        "  reader = csv.reader(f)\n",
        "  p1content = list(reader)"
      ],
      "execution_count": null,
      "outputs": []
    },
    {
      "cell_type": "code",
      "source": [
        "filename = '/content/gdrive/My Drive/2021 Fall/Thesis I/Records/11_16All.txt'\n",
        "with open(filename, newline='') as f:\n",
        "  reader = csv.reader(f)\n",
        "  p2content = list(reader)"
      ],
      "metadata": {
        "id": "435gjZ8Z0Iub"
      },
      "execution_count": null,
      "outputs": []
    },
    {
      "cell_type": "code",
      "metadata": {
        "id": "mH7kOj6hbFGd"
      },
      "source": [
        "filename = '/content/gdrive/My Drive/2021 Fall/Thesis I/Records/TID Spread.txt'\n",
        "with open(filename, newline='') as f:\n",
        "  reader = csv.reader(f)\n",
        "  p3content = list(reader)"
      ],
      "execution_count": null,
      "outputs": []
    },
    {
      "cell_type": "code",
      "metadata": {
        "id": "7nwbjYW1bFaM"
      },
      "source": [
        "p1content= list(map(lambda g: float(g[0]), p1content))\n",
        "p2content= list(map(lambda g: float(g[0]), p2content))\n",
        "p3content= list(map(lambda g: float(g[0]), p3content))\n"
      ],
      "execution_count": null,
      "outputs": []
    },
    {
      "cell_type": "code",
      "metadata": {
        "colab": {
          "base_uri": "https://localhost:8080/",
          "height": 460
        },
        "id": "lWrudjYMaHyb",
        "outputId": "9a03c7de-e133-4b73-dce8-bbdde8795a30"
      },
      "source": [
        "import matplotlib.pyplot as plt\n",
        "import numpy as np\n",
        "print(len(p1content))\n",
        "print(len(p2content))\n",
        "data_1= p1content[:50]\n",
        "data_2= p2content[:50]\n",
        "data_3= p3content[:50]\n",
        "\n",
        "data=[data_1, data_2,data_3]\n",
        "fig = plt.figure(figsize =(8, 5))\n",
        "ax = fig.add_axes([0, 0, 1, 1])\n",
        "#ax.set_title('TID-WL, All-Spread and TID-Spread', fontsize=15)\n",
        " \n",
        "# Adding axis title\n",
        "ax.set_xlabel('TID-WL, All-Spread and TID-Spread', fontsize=12)\n",
        "ax.set_ylabel('Accuracy', fontsize=12)\n",
        "bp = ax.boxplot(data)\n",
        "plt.show()"
      ],
      "execution_count": null,
      "outputs": [
        {
          "output_type": "stream",
          "name": "stdout",
          "text": [
            "50\n",
            "60\n"
          ]
        },
        {
          "output_type": "display_data",
          "data": {
            "text/plain": [
              "<Figure size 576x360 with 1 Axes>"
            ],
            "image/png": "[encoded data removed]"
          },
          "metadata": {
            "needs_background": "light"
          }
        }
      ]
    }
  ]
}